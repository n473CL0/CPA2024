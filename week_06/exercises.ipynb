{
 "cells": [
  {
   "cell_type": "markdown",
   "metadata": {},
   "source": [
    "### Exercise 1"
   ]
  },
  {
   "cell_type": "code",
   "execution_count": 2,
   "metadata": {},
   "outputs": [
    {
     "name": "stdout",
     "output_type": "stream",
     "text": [
      "29\n",
      "[[2, 4, 9], [2, 8, 27]]\n"
     ]
    }
   ],
   "source": [
    "l1 = [1,4,9]\n",
    "l2 = [1,8,27]\n",
    "\n",
    "double = lambda x: x * 2\n",
    "\n",
    "l1[0] = double(l1[0])\n",
    "l2[0] = double(l2[0])\n",
    "\n",
    "print(l1[0] + l2[-1])\n",
    "\n",
    "l0 = [l1,l2]\n",
    "\n",
    "print(l0)"
   ]
  },
  {
   "cell_type": "markdown",
   "metadata": {},
   "source": [
    "### Exercise 2"
   ]
  },
  {
   "cell_type": "code",
   "execution_count": null,
   "metadata": {},
   "outputs": [],
   "source": [
    "## question 1\n",
    "\n",
    "from numpy import average\n",
    "\n",
    "students = ['Martin', 'Arthur', 'Hemma', 'Josh']\n",
    "responses = [[6, 1, 4], [3, 8, 4], [7, 4, 5], [4, 7, 3]]\n",
    "\n",
    "for (ii, res) in enumerate(responses):\n",
    "    print('The average response to question', ii, 'was', round(average(responses[ii]), 2))"
   ]
  },
  {
   "cell_type": "code",
   "execution_count": 2,
   "metadata": {},
   "outputs": [
    {
     "name": "stdout",
     "output_type": "stream",
     "text": [
      "29\n"
     ]
    }
   ],
   "source": [
    "## question 2\n",
    "\n",
    "M = [[5,3,4],[3,4,2],[4,3,1]]\n",
    "\n",
    "sum = 0\n",
    "for row in M:\n",
    "    for element in row:\n",
    "        sum += element\n",
    "\n",
    "print(sum)"
   ]
  },
  {
   "cell_type": "code",
   "execution_count": 3,
   "metadata": {},
   "outputs": [
    {
     "name": "stdout",
     "output_type": "stream",
     "text": [
      "[5, 3, 4]\n",
      "[3, 4, 2]\n",
      "[4, 3, 1]\n",
      "\n",
      "[25, 9, 16]\n",
      "[9, 16, 4]\n",
      "[16, 9, 1]\n"
     ]
    }
   ],
   "source": [
    "## question 3\n",
    "\n",
    "Mp = [[x*x for x in r] for r in M]\n",
    "\n",
    "for row in M:\n",
    "    print(row)\n",
    "\n",
    "print()\n",
    "\n",
    "for row in Mp:\n",
    "    print(row)"
   ]
  }
 ],
 "metadata": {
  "kernelspec": {
   "display_name": "Python 3",
   "language": "python",
   "name": "python3"
  },
  "language_info": {
   "codemirror_mode": {
    "name": "ipython",
    "version": 3
   },
   "file_extension": ".py",
   "mimetype": "text/x-python",
   "name": "python",
   "nbconvert_exporter": "python",
   "pygments_lexer": "ipython3",
   "version": "3.12.7"
  }
 },
 "nbformat": 4,
 "nbformat_minor": 2
}
