{
 "cells": [
  {
   "cell_type": "code",
   "execution_count": null,
   "metadata": {},
   "outputs": [],
   "source": [
    "# list of all square numbers < 1000\n",
    "\n",
    "UPPER_LIMIT = 1000\n",
    "\n",
    "n = 0\n",
    "square_numbers = []\n",
    "\n",
    "while n * n < UPPER_LIMIT:\n",
    "    square_numbers.append(n * n)\n",
    "    n += 1\n",
    "\n",
    "print(square_numbers)\n",
    "print(\"The number of squares <\", UPPER_LIMIT, \"is\", len(square_numbers))\n",
    "print(\"The largest square below\", UPPER_LIMIT, \"is\", square_numbers[-1])\n"
   ]
  },
  {
   "cell_type": "code",
   "execution_count": 4,
   "metadata": {},
   "outputs": [
    {
     "name": "stdout",
     "output_type": "stream",
     "text": [
      "The number of triangle numbers < 1000 is 44\n",
      "The largest triangle number below 1000 is 990\n"
     ]
    }
   ],
   "source": [
    "Tn = lambda n: n * (n+1) /2\n",
    "\n",
    "UPPER_LIMIT = 1000\n",
    "\n",
    "n = 1\n",
    "triangle_numbers = []\n",
    "\n",
    "while Tn(n) < UPPER_LIMIT:\n",
    "    triangle_numbers.append(int(Tn(n)))\n",
    "    n += 1\n",
    "\n",
    "print(\"The number of triangle numbers <\", UPPER_LIMIT, \"is\", len(triangle_numbers))\n",
    "print(\"The largest triangle number below\", UPPER_LIMIT, \"is\", triangle_numbers[-1])"
   ]
  },
  {
   "cell_type": "code",
   "execution_count": 8,
   "metadata": {},
   "outputs": [
    {
     "name": "stdout",
     "output_type": "stream",
     "text": [
      "2 square numbers (below 1000) are also triangle numbers\n"
     ]
    }
   ],
   "source": [
    "in_both = 0\n",
    "\n",
    "for sn in square_numbers:\n",
    "    if sn in triangle_numbers:\n",
    "        in_both += 1\n",
    "\n",
    "print(in_both, \"square numbers (below\", str(UPPER_LIMIT)+\") are also triangle numbers\")"
   ]
  }
 ],
 "metadata": {
  "kernelspec": {
   "display_name": "Python 3",
   "language": "python",
   "name": "python3"
  },
  "language_info": {
   "codemirror_mode": {
    "name": "ipython",
    "version": 3
   },
   "file_extension": ".py",
   "mimetype": "text/x-python",
   "name": "python",
   "nbconvert_exporter": "python",
   "pygments_lexer": "ipython3",
   "version": "3.12.8"
  }
 },
 "nbformat": 4,
 "nbformat_minor": 2
}
