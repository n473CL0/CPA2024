{
 "cells": [
  {
   "cell_type": "markdown",
   "id": "142d3ec9-c029-4e56-9c20-1623804e5a26",
   "metadata": {},
   "source": [
    "<h1>Consolidation Exercise - Cellular Automata</h1>"
   ]
  },
  {
   "cell_type": "markdown",
   "id": "2335a404-4498-4eb7-868b-bd9cc86aa500",
   "metadata": {},
   "source": [
    "In today's lab session, we will learn how to implement two kinds of cellular automata (CAs). By doing so, we will review many of the fundamental programming tools that we covered in TB1, alongside getting hands on practice of using these skills to implement mathematical models. \n",
    "\n",
    "<h2> Introduction to Cellular Automata </h2>\n",
    "\n",
    "A cellular automaton consists of a regular grid of *cells*, each of which can be in a finite number of *states* (i.e *on* or *off* as we will use today). An initial configuration for this grid is created by assigning an initial state to each cell. To update the model, each cell is updated in turn according to a fixed update rule that calculates the new state of a cell based on its current state and the state of the cells nearby (known as a cell's *neighbourhood*). CAs have been used to model physical processes in physics (e.g fluid or gas flow), biology (development and growth of tissues), computation, robotics and more. \n",
    "\n",
    "For example, we could use a CA to simulate the flow of traffic by dividing the road network into a grid, assigning *off* (or 0) to cells which correspond to sections of road with no cars on them and *on* (or 1) to represents sections which contain cars. \n",
    "\n",
    "<img src=\"https://github.com/engmaths/SEMT10002_2024/blob/main/img/DiscreteConcept.png?raw=true\" width=\"80%\">\n",
    "\n",
    "\n",
    "For the image above, we would have an initial state of ```state = [1, 0, 0, 1, 0]```. To evolve this model, we would then update these values according to a rule-for example, we could assume each car will move to the right one space if it can (i.e. if the right neighbour cell is a 0). In our CA world, this means that each cell will move one cell to the right if and only if its right neighbour is off and our new state becomes ```state = [0, 1, 0, 0, 1]```.\n",
    "\n",
    "We are going to start looking at Cellular Automata by implementing some *elementary cellular automata*. An elementary cellular automaton uses a 1-dimensional grid, where each cell has only two possible states (0 or 1) and the rule to determine the evolution of the system depends only on the current state of a cell and its two immediate neighbours. For example, in the image below, the value of the cell at index 4 at time t=1 (shown in red), depends on its own value (shown in green at t=0) and its neighbours (shown in blue). Elementary cellular automata were systematically studied by Stephen Wolfram in the 1980s, with some rules shown to be capable of universal (i.e almost any) computation. \n",
    "\n",
    "<img src=\"https://github.com/engmaths/SEMT10002_2024/blob/main/img/ElementaryCA.png?raw=true\" width=\"80%\">\n",
    "\n",
    "<h2> Implementing CAs in Python</h2>\n",
    "\n",
    "At the highest level of abstraction, the code for implementing any type of CA will look quite similar:\n",
    "\n",
    "```python\n",
    "#Create a data structure to represent the initial state of the system\n",
    "grid = make_grid()\n",
    "\n",
    "#Use a list to store all the grids we generate\n",
    "grids = []\n",
    "#Repeatedly apply the update rule for a certain number of steps\n",
    "for t in range(num_steps):\n",
    "  #Calculate the values in each position for the new grid\n",
    "  new_grid = update_grid(grid)\n",
    "  #Overwrite the old grid with the new grid\n",
    "  grid=new_grid\n",
    "  #Add the updated grid to our store\n",
    "  grids.append(grid)\n",
    "\n",
    "#Plot all grids we've generated to observe how the CA evolves.\n",
    "plot_grid(grids)\n",
    "```\n",
    "\n",
    "In this code, we have a function that creates an initial grid for us (make_grid). We then create an additional variable (grids) to store the grid that was generated at each time step. We then apply our update rule (with the update_grid function) for a number of iterations. Finally, once our model has finished updating, we plot the output. Note that this code contains three functions (make_grid, update_grid, plot_grid) that haven't been written yet. We'll look at how to do this next!\n",
    "\n",
    "\n"
   ]
  },
  {
   "cell_type": "markdown",
   "id": "ac64b8a5-ceec-40a3-9c52-2b8057369fcd",
   "metadata": {},
   "source": [
    "<h3> Representing Cellular Automata with lists (or numpy arrays) </h3>\n",
    "\n",
    "At each time step, we need to represent the current state of the cellular automata. For an elementary cellular automaton, this means we need to store a sequence of 1s and 0s. In Python, we can do this by using a *list*. For example, if we wanted to represent an elementary cellular automata of length 10 cells, with all values zero apart from the first cell, we could do this by creating a list with a '1' at the first index, and '0' everywhere else. In code, this would be written:\n",
    "\n",
    "```python\n",
    "start_with_one = [1, 0, 0, 0, 0, 0, 0, 0, 0, 0]\n",
    "```\n",
    "\n",
    "While this implementation does what we want, it's also not very flexible or practical-what if we want to investigate a CA with 1000 cells? What if we want to vary the location where we put the '1'? A better way would be to use variables to represent the size of the grid and index of the '1', and a loop to construct the list. This would look something like:"
   ]
  },
  {
   "cell_type": "code",
   "execution_count": 1,
   "id": "f584de2c-2f74-4d46-971b-69d35a84fab9",
   "metadata": {},
   "outputs": [
    {
     "name": "stdout",
     "output_type": "stream",
     "text": [
      "[0, 0, 0, 0, 0, 0, 0, 0, 0, 0, 1, 0, 0, 0, 0, 0, 0, 0, 0, 0, 0, 0, 0, 0, 0, 0, 0, 0, 0, 0, 0, 0, 0, 0, 0, 0, 0, 0, 0, 0, 0, 0, 0, 0, 0, 0, 0, 0, 0, 0, 0, 0, 0, 0, 0, 0, 0, 0, 0, 0, 0, 0, 0, 0, 0, 0, 0, 0, 0, 0, 0, 0, 0, 0, 0, 0, 0, 0, 0, 0, 0, 0, 0, 0, 0, 0, 0, 0, 0, 0, 0, 0, 0, 0, 0, 0, 0, 0, 0, 0]\n"
     ]
    }
   ],
   "source": [
    "ALIVE = 1\n",
    "DEAD = 0\n",
    "GRID_LENGTH = 100\n",
    "#ALIVE INDEX is the index of the cell which is set to 1.\n",
    "ALIVE_INDEX = 10\n",
    "\n",
    "CA_grid = []\n",
    "for index in range(GRID_LENGTH):\n",
    "  if index == ALIVE_INDEX:\n",
    "    CA_grid.append(ALIVE)\n",
    "  else:\n",
    "    CA_grid.append(DEAD)\n",
    "\n",
    "print(CA_grid)"
   ]
  },
  {
   "cell_type": "markdown",
   "id": "58c65186-9ccc-430b-b5df-6bcdc768d59b",
   "metadata": {},
   "source": [
    "Note that we can also represent the grid with a numpy array, and doing so lets us achieve the same thing with a bit less code. If you haven't seen (or have forgotten how to use numpy), you can get a quick introduction (or refresher) <a href=https://numpy.org/doc/stable/user/absolute_beginners.html>here</a>. We'll take a more detailed look at numpy next week. Using numpy, we could write:"
   ]
  },
  {
   "cell_type": "code",
   "execution_count": 7,
   "id": "3b2b66f9-072d-4cbe-8f46-5bb48ac612a0",
   "metadata": {},
   "outputs": [
    {
     "name": "stdout",
     "output_type": "stream",
     "text": [
      "[0 0 0 0 0 0 0 0 0 0 1 0 0 0 0 0 0 0 0 0 0 0 0 0 0 0 0 0 0 0 0 0 0 0 0 0 0\n",
      " 0 0 0 0 0 0 0 0 0 0 0 0 0 0 0 0 0 0 0 0 0 0 0 0 0 0 0 0 0 0 0 0 0 0 0 0 0\n",
      " 0 0 0 0 0 0 0 0 0 0 0 0 0 0 0 0 0 0 0 0 0 0 0 0 0 0]\n"
     ]
    }
   ],
   "source": [
    "import numpy as np\n",
    "ALIVE = 1\n",
    "DEAD = 0\n",
    "GRID_LENGTH = 100\n",
    "#ALIVE INDEX is the index of the single cell which is set to 1.\n",
    "ALIVE_INDEX = 10\n",
    "CA_grid = np.zeros(GRID_LENGTH, dtype=np.int8)\n",
    "CA_grid[ALIVE_INDEX] = ALIVE\n",
    "\n",
    "print(CA_grid)"
   ]
  },
  {
   "cell_type": "markdown",
   "id": "725d4f03-a635-42f9-9adb-0787c0585094",
   "metadata": {},
   "source": [
    "Here, we've used the in-built numpy function *zeros* to quickly create an array of all zeros of the required length. This function requires one argument - the size of the array. One of the key differences between numpy arrays and Python lists is that while a list can contain different types of data (i.e you can create ```python my_list = [1, 'a', None])```, numpy arrays must all be the same type of data. Here, we use the optional dtype argument to specify that we want our array to consist of 8 bit integers (i.e integers represented by 8 bits, allowing us to represent numbers from 0 - (2^8)-1 = 255). As our state will either be a 0 or 1, this is plenty. We've done this to make it easier to plot the output- the program should still execute correctly if you remove it as  numpy will default to using floats instead). \n",
    "\n",
    "A further benefit of using numpy arrays is that we can easily display the grid we've created using matplotlib."
   ]
  },
  {
   "cell_type": "code",
   "execution_count": 1,
   "id": "714f804d-a184-4338-9295-ba5c52b56d9c",
   "metadata": {},
   "outputs": [
    {
     "data": {
      "image/png": "[encoded data removed]",
      "text/plain": [
       "<Figure size 1000x1000 with 1 Axes>"
      ]
     },
     "metadata": {},
     "output_type": "display_data"
    }
   ],
   "source": [
    "import numpy as np \n",
    "import matplotlib.pyplot as plt \n",
    "ALIVE = 1\n",
    "DEAD = 0\n",
    "GRID_LENGTH = 100\n",
    "#ALIVE INDEX is the index of the single cell which is set to 1.\n",
    "ALIVE_INDEX = 10\n",
    "CA_grid = np.zeros(GRID_LENGTH, dtype=np.int8)\n",
    "CA_grid[ALIVE_INDEX] = ALIVE\n",
    "\n",
    "#Make a figure object, with size 10x10\n",
    "fig = plt.figure(figsize=(10, 10))\n",
    "#Create an axes object within the figure\n",
    "ax = plt.axes()\n",
    "#Turn off the xy axes\n",
    "ax.set_axis_off()\n",
    "#Make a 1 x GRID_LENGTH array for plotting\n",
    "image = np.zeros((1, GRID_LENGTH), dtype = np.int8)\n",
    "#Copy CA_grid into the image array\n",
    "image[0, :] = CA_grid\n",
    "#Display the image\n",
    "ax.imshow(image, interpolation='none', cmap='RdPu')\n",
    "#Display the plot on the screen for 3 seconds\n",
    "plt.show()"
   ]
  },
  {
   "cell_type": "markdown",
   "id": "b0439972-c723-466d-85d3-abd7957cfdd3",
   "metadata": {},
   "source": [
    "Here, we've used the line ```python fig=plt.figure()``` to make an empty matplotlib figure. We then add a figure axes with ```python ax = plt.axes()```, turn off the xy axes with the line ```python ax.set_axis_off()```. The line ```python ax.imshow(image)``` then displays the grid as an image using a simple encoding- cells with a zero in them are white, while cells with a 1 in them are black. The final line ```python plt.show()``` tells matplotlib to display the plot on the screen. \n",
    "\n",
    "<h3> Exercise 1</h3>\n",
    "\n",
    "While the code snippets above will both do what we want- make an initial grid with a single cell set to '1', ideally we'd like these implemented as functions, with parameters taken as inputs. \n",
    "\n",
    "**Exercise:** Complete the code snippet below by writing functions that create the following initial grids:\n",
    "\n",
    "1. A singleton grid (everywhere is zero apart from one location) - this function should take two parameters (the length of the grid and the index that should be set to one). \n",
    "2. A random grid (each cell is set to 1 with some probability p, and is zero otherwise). To help you with this, you may want to import the Python library *random*. This will allow you to generate a random number between 0 and 1 by calling the function random.random(). "
   ]
  },
  {
   "cell_type": "code",
   "execution_count": null,
   "id": "a00b7a6e-4ad8-49d9-a613-fee96bb90817",
   "metadata": {},
   "outputs": [
    {
     "name": "stdout",
     "output_type": "stream",
     "text": [
      "Grid 1\n",
      "[0 0 0 0 0 0 0 0 0 0 1 0 0 0 0 0 0 0 0 0 0 0 0 0 0 0 0 0 0 0 0 0 0 0 0 0 0\n",
      " 0 0 0 0 0 0 0 0 0 0 0 0 0 0 0 0 0 0 0 0 0 0 0 0 0 0 0 0 0 0 0 0 0 0 0 0 0\n",
      " 0 0 0 0 0 0 0 0 0 0 0 0 0 0 0 0 0 0 0 0 0 0 0 0 0 0]\n"
     ]
    },
    {
     "data": {
      "image/png": "[encoded data removed]",
      "text/plain": [
       "<Figure size 1000x1000 with 1 Axes>"
      ]
     },
     "metadata": {},
     "output_type": "display_data"
    },
    {
     "name": "stdout",
     "output_type": "stream",
     "text": [
      "Grid 2\n",
      "[1 0 0 0 1 0 0 1 0 0 1 0 0 0 0 1 0 0 0 0 0 0 0 0 0 1 0 0 0 0 0 0 0 0 0 0 1\n",
      " 0 1 1 0 1 0 0 0 0 0 0 0 1 0 0 0 0 0 1 0 0 0 0 0 0 1 0 0 0 0 0 0 0 0 0 0 1\n",
      " 0 0 0 0 0 1 0 0 0 0 0 1 0 0 0 0 0 0 0 0 0 0 0 0 0 0]\n"
     ]
    }
   ],
   "source": [
    "import numpy as np \n",
    "import matplotlib.pyplot as plt \n",
    "import random\n",
    "ALIVE = 1 \n",
    "DEAD = 0 \n",
    "GRID_LENGTH = 100\n",
    "#ALIVE INDEX is the index of the single cell which is set to 1.\n",
    "ALIVE_INDEX = 10\n",
    "#ALIVE probability is the fraction of a random grid which is set to 1.\n",
    "ALIVE_PROBABILITY = 0.1 \n",
    "\n",
    "def create_singleton_grid(length, alive_index):\n",
    "  '''\n",
    "  Make a grid of specified length with all cells apart from one set to zero.\n",
    "  Inputs:\n",
    "    grid_length (integer) - the size of the grid\n",
    "    one_index (integer) - the index of the cell which is set to one.\n",
    "  Returns:\n",
    "    grid (numpy array)\n",
    "  '''\n",
    "  \n",
    "  grid = np.zeros(length, dtype=np.int8)\n",
    "  #Your code goes here\n",
    "  grid[alive_index] = ALIVE\n",
    "\n",
    "  return grid\n",
    "\n",
    "def create_random_grid(length, alive_probability):\n",
    "  '''\n",
    "  Make a grid of specified length with cells randomly set to one or zero, with probability p.\n",
    "  Inputs:\n",
    "    #You should edit this to match your function.\n",
    "  Returns:\n",
    "    grid (numpy array)\n",
    "  '''\n",
    "\n",
    "  grid = []\n",
    "\n",
    "  #Your code goes here \n",
    "  for i in range(length):\n",
    "    if random.random() < alive_probability:\n",
    "      grid.append(ALIVE)\n",
    "    else:\n",
    "      grid.append(DEAD)\n",
    "\n",
    "  return np.array(grid, dtype=np.int8)\n",
    "\n",
    "grid1 = create_singleton_grid(GRID_LENGTH, ALIVE_INDEX)\n",
    "print(\"Grid 1\")\n",
    "print(grid1)\n",
    "\n",
    "#This code will plot grid 1 - uncomment to run\n",
    "fig = plt.figure(figsize=(10, 10))\n",
    "ax1 = fig.add_subplot(211)\n",
    "ax1.set_axis_off()\n",
    "image1 = np.zeros((1, GRID_LENGTH), dtype = np.int8)\n",
    "#Copy CA_grid into the image array\n",
    "image1[0, :] = grid1\n",
    "#Display the image\n",
    "ax1.imshow(image1, interpolation='none', cmap='RdPu')\n",
    "plt.show()\n",
    "\n",
    "grid2 = create_random_grid(GRID_LENGTH, ALIVE_PROBABILITY)\n",
    "print(\"Grid 2\")\n",
    "print(grid2)\n",
    "\n",
    "#This code will plot grid 2 - uncomment to run\n",
    "ax2 = fig.add_subplot(212)\n",
    "ax2.set_axis_off()\n",
    "image2 = np.zeros((1, GRID_LENGTH), dtype = np.int8)\n",
    "#Copy CA_grid into the image array\n",
    "image2[0, :] = grid2\n",
    "#Display the image\n",
    "ax2.imshow(image2, interpolation='none', cmap='RdPu')\n",
    "plt.show()\n",
    "\n",
    "#Jupyter Notebook prints multi-line strings unless there is code after them - this line prevents it from being printed as the output\n",
    "pass\n",
    "\n"
   ]
  },
  {
   "cell_type": "markdown",
   "id": "21e54bf8-7359-4cf2-a02f-85c99ffdf1ad",
   "metadata": {},
   "source": [
    "<h3> Implementing an update rule</h3>\n",
    "\n",
    "Now that we can make our initial grids, the next step is to write the code that will update the state of the CA based on an update rule. In terms of our high level view of the code, we need to now write the ```python update_grid()``` function.\n",
    "\n",
    "```python\n",
    "#Create a data structure to represent the initial state of the system\n",
    "grid = make_grid()\n",
    "\n",
    "#Use a list to store all the grids we generate\n",
    "grids = []\n",
    "#Repeatedly apply the update rule for a certain number of steps\n",
    "for t in range(num_steps):\n",
    "  #Calculate the values in each position for the new grid\n",
    "  new_grid = update_grid(grid)\n",
    "  #Overwrite the old grid with the new grid\n",
    "  grid=new_grid\n",
    "  #Add the updated grid to our store\n",
    "  grids.append(grid)\n",
    "\n",
    "#Plot all grids we've generated to observe how the CA evolves.\n",
    "plot_grid(grids)\n",
    "```\n",
    "\n",
    "We can decompose the update_grid() function into two separate jobs. Firstly, we need to write some code to calculate the new value for a location by applying the local rule. For our first update rule, we'll use the rule that an element should be set to 1 if  its current value is 0 and the left neighbour is 1. Otherwise, it should be zero. Intuitively, this should have the effect of moving the 1s in the grid to the right. \n",
    "\n",
    "Secondly, we need to write some code to iterate through our grid, building a new grid by applying the update rule to each element in turn. \n",
    "\n",
    "<h4> Boundary Conditions</h4>\n",
    "\n",
    "One thing we need to be careful when we do write this loop, is how we deal with the far right and far left elements- we might be tempted to do something like\n",
    "\n",
    "```python\n",
    "for index in range(GRID_LENGTH):\n",
    "  left_neighbour = old_grid[0, index-1]\n",
    "  right_neighbour = old_grid[0, index+1]\n",
    "  old_value = old_grid[0, index]\n",
    "\n",
    "  new_value = update_cell(old_value, left_neighbour, right_neighbour)\n",
    "```\n",
    "\n",
    "Unfortunately, if you try this, you'll get an error when you try to assign the right_neighbour value for the rightmost element of the grid. If our grid has a size of 100, then the rightmost value will have an index of 99. When we try to access element 99+1=100, we'll get an IndexError (as we've tried to access an element of a list that doesn't exist - remember, Python starts indexing lists at 0). The problem here is that we haven't defined the *boundary conditions* for our system. In general, boundary conditions for a system like this can be *constant*, *absorbing* or *circular*, and the correct one to use will depend on the details of the system you want to model. Here, we'll arbitrarily choose to use *circular* boundary conditions, which means that we'll define the right neighbour of the rightmost (i.e index 99) index to be the left most index (i.e index 0), and similarly the left neighbour of the left most index (index 0) to be the rightmost neighbour (i.e index 99). Essentially, we model the road as wrapping around to form a continuous circle. We can implement this by using a series of if-then-else statements, or by exploiting the modulo (```python % ```)operator. This operator returns the remainder when the first argument is divided by the second argument - i.e 5 % 3 = 2, 99 % 99 = 0, 100 % 99 = 1.  \n",
    "\n",
    "\n",
    "<h3> Exercise 2</h3>\n",
    "\n",
    "**Exercise:** Complete the code below to implement and test the update_grid functionality. \n",
    "\n",
    "1. In a seminar in TB1, we discussed the importance of using *automated* testing to ensure our code is producing the correct output. CAs are particularly amenable to this kind of testing. We've added two *incomplete* test functions to the code-please add the additional tests to ensure all inputs are producing the right output.\n",
    "\n",
    "2. Complete the update_grid code so that all tests pass.\n"
   ]
  },
  {
   "cell_type": "code",
   "execution_count": 9,
   "id": "1db813b3",
   "metadata": {},
   "outputs": [
    {
     "name": "stdout",
     "output_type": "stream",
     "text": [
      "no\n"
     ]
    }
   ],
   "source": [
    "if 0:\n",
    "    print('yes')\n",
    "if 1:\n",
    "    print('no')"
   ]
  },
  {
   "cell_type": "code",
   "execution_count": null,
   "id": "ba8f05fc-b89b-4a42-83f8-199c72bfd49f",
   "metadata": {},
   "outputs": [
    {
     "name": "stdout",
     "output_type": "stream",
     "text": [
      "Testing update value\n",
      "\n",
      "Tests passed\n",
      "Testing update grid\n",
      "\n",
      "Tests passed\n",
      "[0 0 0 0 0 0 0 0 0 0 1 0 0 0 0 0 0 0 0 0 0 0 0 0 0 0 0 0 0 0 0 0 0 0 0 0 0\n",
      " 0 0 0 0 0 0 0 0 0 0 0 0 0 0 0 0 0 0 0 0 0 0 0 0 0 0 0 0 0 0 0 0 0 0 0 0 0\n",
      " 0 0 0 0 0 0 0 0 0 0 0 0 0 0 0 0 0 0 0 0 0 0 0 0 0 0]\n",
      "[0 0 0 0 0 0 0 0 0 0 0 1 0 0 0 0 0 0 0 0 0 0 0 0 0 0 0 0 0 0 0 0 0 0 0 0 0\n",
      " 0 0 0 0 0 0 0 0 0 0 0 0 0 0 0 0 0 0 0 0 0 0 0 0 0 0 0 0 0 0 0 0 0 0 0 0 0\n",
      " 0 0 0 0 0 0 0 0 0 0 0 0 0 0 0 0 0 0 0 0 0 0 0 0 0 0]\n"
     ]
    },
    {
     "data": {
      "image/png": "[encoded data removed]",
      "text/plain": [
       "<Figure size 1000x1000 with 2 Axes>"
      ]
     },
     "metadata": {},
     "output_type": "display_data"
    }
   ],
   "source": [
    "\n",
    "def update_cell(old_value, left_neighbour, right_neighbour):\n",
    "  '''\n",
    "  Calculates the new value for a cell given the old value and the values of the left and right neighbours\n",
    "  Inputs:\n",
    "    old_value (integer)\n",
    "    left_neighbour (integer)\n",
    "    right_neighbour (integer)\n",
    "  Returns:\n",
    "    new_value (integer)\n",
    "  '''\n",
    "\n",
    "  new_value = 0 \n",
    "  #Your code goes here\n",
    "  if not old_value and left_neighbour:\n",
    "      new_value = 1\n",
    "\n",
    "  return new_value\n",
    "\n",
    "def update_grid(old_grid, rule=None):\n",
    "  '''\n",
    "  Update the values within a grid according to local rules.\n",
    "  Inputs:\n",
    "      old_grid (numpy array)\n",
    "  Returns:\n",
    "    new_grid (numpy array)\n",
    "    '''\n",
    "\n",
    "  new_grid = []\n",
    "\n",
    "  #Your code goes here\n",
    "  grid_length = len(old_grid)\n",
    "\n",
    "  for i in range(grid_length):\n",
    "    new_grid.append(update_cell(old_grid[i], old_grid[(i - 1) %  grid_length], old_grid[(i + 1) % grid_length]))\n",
    "\n",
    "\n",
    "  return np.array(new_grid, dtype=np.int8)\n",
    "\n",
    "def test_update_cell():\n",
    "\n",
    "  assert update_cell(0,0,0)==0, \"test 1\"\n",
    "  assert update_cell(1,0,0)==0, \"test 2\"\n",
    "  assert update_cell(0,1,0)==1, \"test 3\"\n",
    "  assert update_cell(0,0,1)==0, \"test 4\"\n",
    "  assert update_cell(1,1,0)==0, \"test 5\"\n",
    "  assert update_cell(1,0,1)==0, \"test 6\"\n",
    "  #Add the rest of the tests here - you should cover inputs of (0, 1, 1) and (1, 1, 1)\n",
    "\n",
    "def test_update_grid():\n",
    "\n",
    "  assert (update_grid((np.array([1, 0, 0], dtype=np.int8)))==np.array([0, 1, 0], dtype=np.int8)).all()==True\n",
    "  assert (update_grid((np.array([0, 1, 0], dtype=np.int8)))==np.array([0, 0, 1], dtype=np.int8)).all()==True\n",
    "  assert (update_grid((np.array([0, 0, 1], dtype=np.int8)))==np.array([1, 0, 0], dtype=np.int8)).all()==True\n",
    "  assert (update_grid((np.array([1, 1, 1], dtype=np.int8)))==np.array([0, 0, 0], dtype=np.int8)).all()==True\n",
    "  assert (update_grid((np.array([0, 0, 0], dtype=np.int8)))==np.array([0, 0, 0], dtype=np.int8)).all()==True  \n",
    "  #Add more tests here - for a length 3 grid, you should have 8 possible initial states to test.\n",
    "\n",
    "print(\"Testing update value\\n\")\n",
    "test_update_cell()\n",
    "print(\"Tests passed\")\n",
    "print(\"Testing update grid\\n\")\n",
    "test_update_grid()\n",
    "print(\"Tests passed\")\n",
    "\n",
    "grid1 = create_singleton_grid(GRID_LENGTH, ALIVE_INDEX)\n",
    "grid2 = update_grid(grid1)\n",
    "\n",
    "print(grid1)\n",
    "print(grid2)\n",
    "\n",
    "fig = plt.figure(figsize=(10, 10))\n",
    "ax1 = fig.add_subplot(211)\n",
    "ax1.set_axis_off()\n",
    "image1 = np.zeros((1, GRID_LENGTH), dtype = np.int8)\n",
    "#Copy CA_grid into the image array\n",
    "image1[0, :] = grid1\n",
    "#Display the image\n",
    "ax1.imshow(image1, interpolation='none', cmap='RdPu')\n",
    "\n",
    "ax2 = fig.add_subplot(212)\n",
    "ax2.set_axis_off()\n",
    "image2 = np.zeros((1, GRID_LENGTH), dtype = np.int8)\n",
    "#Copy CA_grid into the image array\n",
    "image2[0, :] = grid1\n",
    "#Display the image\n",
    "ax2.imshow(image2, interpolation='none', cmap='RdPu')\n",
    "plt.pause(10)"
   ]
  },
  {
   "cell_type": "markdown",
   "id": "df250a90-9187-446d-a679-c2c657b8143b",
   "metadata": {},
   "source": [
    "<h3> Putting it all together</h3>\n",
    "\n",
    "Now that we've written the functions that we need for our model, we can write a main function to combine everything together. The file \"CA.py\" contains a main function and the empty function headers that you've implemented so far. Copy your code into \"CA.py\" and make sure everything runs as it should. When I run my code with a random configuration (alive probability of 20%) for 10 steps, I get the following image:\n",
    "\n",
    "<img src=\"https://github.com/engmaths/SEMT10002_2024/blob/main/img/CA_example.png?raw=true\">\n",
    "\n",
    "Now that we've seen how to implement our first cellular automaton, it's time for you to have a go with a slightly different (2D) CA."
   ]
  },
  {
   "attachments": {},
   "cell_type": "markdown",
   "id": "6aedba98-35a1-4d76-bde5-216388f559bb",
   "metadata": {},
   "source": [
    "<h2> The game of life </h2>\n",
    "Perhaps the most famous example of the cellular automata, is the Game of Life, developed in the 1970s by John Conway (and sometimes known as \"Conway's game of life to disambiguate from the board game with the same name). This model showed how complex behaviours can emerge from a relatively simple set of rules (more info available <a href=https://en.wikipedia.org/wiki/Conway%27s_Game_of_Life>here</a>). The image below shows an example of running the game of life for 100 timesteps (ignore the colours which are an artefact of the process used to turn the images into a gif- we only have two states here).\n",
    "\n",
    "<img src=\"https://github.com/engmaths/SEMT10002_2024/blob/main/img/GoL.gif?raw=true\" width=\"60%\">\n",
    "\n",
    "Unlike the elementary CA we've implemented, the Game of Life uses a regular 2D grid. This means that the new value of an cell (shown in blue) depends on the 8 neighbouring cells (shown in red)\n",
    "\n",
    "<img src=\"https://github.com/engmaths/SEMT10002_2024/blob/main/img/GoL_neighhbourhood.png?raw=true\">\n",
    "\n",
    "The update rule for the game of life is as follows:\n",
    "\n",
    "1. *Birth rule*: An element that is currently 0 with exactly 3 neighbours is set to 1.\n",
    "2. *Death rule 1 (loneliness)*: An element that is currently 1 with 1 or less neighbours is set to 0.\n",
    "3. *Death rule 2 (starvation)*: An element that is currently 1 with 4 or more neighbours is set to 0.\n",
    "4. *Survival rule*: An element that is currently 1 with 2 or 3 neighbours is set to 1.\n",
    "\n",
    "This seemingly simple set of rules can create complex, self-repeating patterns such as the \"glider gun\" shown below (image from wikipedia).\n",
    "\n",
    "<img width=\"30%\" src=\"https://upload.wikimedia.org/wikipedia/commons/e/e5/Gospers_glider_gun.gif\"/>\n",
    "\n",
    "<h3> Exercise 3</h3>\n",
    "\n",
    "Working in pairs, implement the game of life. As with the elementary CA, you'll need a function for initialising a starting grid (random is fine), for updating the grid, and for displaying the grid (here, it's fine to just display the current state of the grid rather than all previous grids as we did for the elementary CA). You'll also need to think about how to store the grid now that it's 2D rather than 1D (**hint** a nested list would work, but you'll find it much easier if you use a 2D numpy array). \n",
    "\n",
    "You should also include some *test functions* to ensure your code is working correctly.\n",
    "\n",
    "**Submission** This code will be submitted (in pairs) as your third consolidation exercise. Both pairs should update identical code to Blackboard by (date_goes_here). Your code should be submitted as a single file (\"GoL.py\"). When I run your code, it should create a 100 x 100 grid, updating and plotting the evolution of the model for 100 time steps. \n",
    "\n",
    "Feedback for this assignment will focus on your use of test functions, your use of functions to organise code, and your adherence to the unit style guide.\n"
   ]
  },
  {
   "cell_type": "code",
   "execution_count": 22,
   "id": "3e291cd8",
   "metadata": {},
   "outputs": [
    {
     "name": "stdout",
     "output_type": "stream",
     "text": [
      "[[0 0 1]\n",
      " [0 0 1]\n",
      " [0 0 0]]\n",
      "0\n"
     ]
    }
   ],
   "source": [
    "import numpy as np\n",
    "\n",
    "def create_random_grid(height, width, alive_probability):\n",
    "  '''\n",
    "  Makes a 2 dimensional grid of dimensions HEIGHT x WIDTH\n",
    "  '''\n",
    "\n",
    "  #Your code goes here\n",
    "  random_grid = np.random.rand(height, width)\n",
    "\n",
    "  standard_grid = np.where(random_grid < alive_probability, 1, 0)\n",
    "\n",
    "  return standard_grid\n",
    "\n",
    "g = create_random_grid(10, 10, 0.2)\n",
    "\n",
    "slice = g[6:9, 5:8]\n",
    "\n",
    "print(slice)\n",
    "\n",
    "def update_cell(neighbourhood):\n",
    "  '''\n",
    "  Calculates the new value for a cell given the neighbourhood\n",
    "  '''\n",
    "\n",
    "  element = neighbourhood[1,1]\n",
    "  neighbours = np.sum(neighbourhood) - element\n",
    "\n",
    "  if element:\n",
    "    # Death rule 1 (loneliness) and death rule 2 (starvation)\n",
    "    if neighbours < 2 or neighbours > 3:\n",
    "      return 0\n",
    "    # Survival rule\n",
    "    return 1\n",
    "  # Birth rule\n",
    "  if neighbours == 3:\n",
    "    return 1\n",
    "  return 0\n",
    "\n",
    "u_slice = update_cell(slice)\n",
    "\n",
    "print(u_slice)"
   ]
  },
  {
   "cell_type": "markdown",
   "id": "5723f19d",
   "metadata": {},
   "source": []
  },
  {
   "cell_type": "code",
   "execution_count": null,
   "id": "028c0fa0",
   "metadata": {},
   "outputs": [],
   "source": []
  },
  {
   "cell_type": "markdown",
   "id": "2502d0b7-e34c-47a7-b0df-1d374a0e52f9",
   "metadata": {},
   "source": [
    "<h2> Exploring further update rules for elementary cellular automata </h2>\n",
    "\n",
    "In the exercise above, we looked at one possible update rule for our cellular automata. In fact, there are many (256) other rules that we could have looked at. A scheme for understanding the various update rules for elementary CAs was proposed by Stephen Wolfram. The key insight is that as the update rule only looks at 3 cells, and each cells can only be a one or a zero, there are 2^3 = 8 possible states for these three cells. An update rule can then be described by writing down the new value that corresponds to each of these states. For example, the rule we implemented assigned a 1 to a cell if its current value was 0 and its left neighbour was 1. This corresponds to the rule:\n",
    "\n",
    "| 111 | 110 | 101 | 100 | 011 | 010 | 001 | 000 |\n",
    "|-----|-----|-----|-----|-----|-----|-----|-----|\n",
    "| 0   | 0   | 1   | 1   | 0   | 0   | 0   | 0   |\n",
    "\n",
    "As the bottom row describes a binary number (00110000 = 48), this is known as rule 48.\n",
    "\n",
    "<h3> Exercise 4</h3> \n",
    "Modify your CA code to include a generalised update_value function. Alongside the current values of the cell and its two neighbours, this function should also take a rule (specified as an integer) as an input. It should then use the update rule that corresponds to that integer to update the grid. Extend your code to optionally read the rule to be used from the command line. The function below for converting an integer into a binary number may be helpful. **hint** You only need to use if-then-else statements to implement the generalised update rule!\n",
    "\n",
    "```python\n",
    "def convert_int_to_binary(rule):\n",
    "  rule = format(rule, '#010b')[2:]\n",
    "  return rule \n",
    "```"
   ]
  },
  {
   "cell_type": "code",
   "execution_count": 22,
   "id": "fd60468d-cfbd-4113-a43b-a895ce33900a",
   "metadata": {},
   "outputs": [
    {
     "data": {
      "image/png": "[encoded data removed]",
      "text/plain": [
       "<Figure size 640x480 with 1 Axes>"
      ]
     },
     "metadata": {},
     "output_type": "display_data"
    }
   ],
   "source": [
    "import numpy as np\n",
    "import matplotlib.pyplot as plt\n",
    "from matplotlib.animation import FuncAnimation\n",
    "\n",
    "# Example list of 2D numpy arrays\n",
    "array_list = [\n",
    "    np.random.choice([0, 1], size=(10, 10), p=[0.8, 0.2]) for _ in range(20)\n",
    "]\n",
    "\n",
    "# Set up the figure and axes\n",
    "fig, ax = plt.subplots()\n",
    "im = ax.imshow(array_list[0], cmap='gray', interpolation='none', vmin=0, vmax=1)\n",
    "ax.set_title(\"2D Array Animation\")\n",
    "ax.axis('off')  # Turn off axis labels\n",
    "\n",
    "# Function to update the animation\n",
    "def update(frame):\n",
    "    im.set_array(array_list[frame])\n",
    "    return [im]\n",
    "\n",
    "# Create the animation\n",
    "ani = FuncAnimation(\n",
    "    fig, update, frames=len(array_list), interval=200, blit=True\n",
    ")\n",
    "\n",
    "plt.show()\n"
   ]
  }
 ],
 "metadata": {
  "kernelspec": {
   "display_name": "Python 3",
   "language": "python",
   "name": "python3"
  },
  "language_info": {
   "codemirror_mode": {
    "name": "ipython",
    "version": 3
   },
   "file_extension": ".py",
   "mimetype": "text/x-python",
   "name": "python",
   "nbconvert_exporter": "python",
   "pygments_lexer": "ipython3",
   "version": "3.12.8"
  }
 },
 "nbformat": 4,
 "nbformat_minor": 5
}
