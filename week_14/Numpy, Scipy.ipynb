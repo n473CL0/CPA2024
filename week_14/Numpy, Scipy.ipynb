{
 "cells": [
  {
   "cell_type": "markdown",
   "id": "65c39f94-4813-4b9a-aa62-cb902787737c",
   "metadata": {},
   "source": [
    "\n",
    "\n",
    "## Getting started\n",
    "\n",
    "Either:\n",
    "\n",
    "- Click [this link](https://colab.research.google.com/github/engmaths/SEMT10002_2024/blob/main/weekly_labs/Week_14_numpy/Numpy,%20Scipy.ipynb) to open this notebook in Google colab.  You'll need to sign in with a Google account before you can run it.  When you do, hit `Ctrl+F9` to check it all runs.\n",
    "\n",
    "or\n",
    "\n",
    "- Download it to your local computer using `git clone https://github.com/engmaths/SEMT10002_2024` or just use `git pull` to refresh if you've done this already.\n",
    "- Navigate to the subfolder `weekly_labs/Week_14_numpy` and open the notebook `Numpy, Scipy.ipynb`.  For example, in Visual Studio Code, use `Ctrl+K Ctrl+O` to open a folder and select the folder just mentioned.  Then you can open the notebook file by clicking on it in the left hand explorer sidebar.\n",
    "\n",
    "<h1> Introduction to Numpy and Scipy</h1>\n",
    "\n",
    "*NumPy* (**Num**erical **Py**thon) is a Python library extensively used for Scientific Computing. Although not part of the core Python library, NumPy is a fundamental part of the modern *Scientific Computing* technology stack and NumPy is used \"under the hood\" in many other libraries (e.g. in SciPy, SKLearn, or Pandas). Code that is written using NumPy is generally faster, more readable, and more likely to be correct!\n",
    "\n",
    "Today's lab will give you a brief introduction to the key features of NumPy. We won't cover everything, so it's a good idea to be aware of the official documentation <a href=https://numpy.org/doc/1.19/>here</a>\n",
    "\n",
    "The key things introduced by NumPy are:\n",
    "\n",
    "1. A multidimensional *array* data type. This is a bit like a list, with the restriction that all data in the array must be of the same *type*. This means we can't mix, for example, ints and strings or ints and floats within an array. For paying this price, we get much more efficient (both in terms of memory and CPU time) code.\n",
    "2. Many common mathematical or scientific utility functions- e.g. calculating the dot product of two vectors.\n",
    "\n",
    "<h2> Getting Started</h2>\n",
    "\n",
    "<h3> Installing and importing NumPy</h3>\n",
    "\n",
    "Depending on how you installed Python, you may already have NumPy installed. You can check this by trying to import it. By convention, numpy as imported as *np*. Try running the line below- if you don't get an error, you already have NumPy installed.\n"
   ]
  },
  {
   "cell_type": "code",
   "execution_count": 1,
   "id": "45759d4c-e531-40f8-9568-6f37f6e1f12c",
   "metadata": {},
   "outputs": [],
   "source": [
    "import numpy as np"
   ]
  },
  {
   "cell_type": "markdown",
   "id": "7614c9ac-43f0-4fff-b1fd-e2f80773f531",
   "metadata": {},
   "source": [
    "If you don't have it installed, you can install it with pip (Python installation package). Do this by typing\n",
    "\n",
    "```bash\n",
    "pip3 install numpy\n",
    "```"
   ]
  },
  {
   "cell_type": "markdown",
   "id": "ebbaf63b-073d-45ad-b6a4-8cf5dacba5c7",
   "metadata": {},
   "source": [
    "<h2> NumPy Arrays</h2>\n",
    "\n",
    "The key thing that NumPy provides for us is an *array* data type. An array is a bit like a list- it can contain multiple elements. Unlike lists, we can't mix data types within an array-we have to specify a single data type that is shared by all elements in the array. The other major difference between an array and a list is that arrays are *multidimensional*. Lists, on the other hand, can only be 1-dimensional. We can make something that looks 2D, 3D or higher by using nesting, but this quickly gets messy. Arrays on the other hand can natively be specified as 2, 3 or N dimensional. This makes them a natural choice for storing and processing vectors and matrices. By forcing all elements in the array to have the same data type, NumPy arrays allow code that runs quicker, makes better use of memory and is easier to read and write. \n",
    "\n",
    "<h3> Creating Arrays</h3>\n",
    "\n",
    "We have a number of options when it comes to defining an array:\n",
    "\n",
    "1. We can make an array from a list"
   ]
  },
  {
   "cell_type": "code",
   "execution_count": 2,
   "id": "a01eab12-8698-4799-bae5-510107ed2a96",
   "metadata": {},
   "outputs": [
    {
     "name": "stdout",
     "output_type": "stream",
     "text": [
      "[1 2 3]\n"
     ]
    }
   ],
   "source": [
    "my_list = [1, 2, 3]\n",
    "my_array = np.array(my_list)\n",
    "print(my_array)"
   ]
  },
  {
   "cell_type": "markdown",
   "id": "8b546a22-f027-4ed6-a61f-825e14c9c238",
   "metadata": {},
   "source": [
    "we can make 2 or 3D arrays from lists by nesting them."
   ]
  },
  {
   "cell_type": "code",
   "execution_count": 3,
   "id": "cc36a58d-565a-447d-bef3-3361338eb8a9",
   "metadata": {},
   "outputs": [
    {
     "name": "stdout",
     "output_type": "stream",
     "text": [
      "[[1 2 3]\n",
      " [4 5 6]]\n"
     ]
    }
   ],
   "source": [
    "my_nested_list = [[1, 2, 3], [4, 5, 6]]\n",
    "my_2D_array = np.array(my_nested_list)\n",
    "print(my_2D_array)"
   ]
  },
  {
   "cell_type": "markdown",
   "id": "d0b181ab-5199-4709-96a9-314c15c65ed6",
   "metadata": {},
   "source": [
    "We can turn an array back into a list using the built-in tolist() method."
   ]
  },
  {
   "cell_type": "code",
   "execution_count": 90,
   "id": "a37659ba-9d94-4d1a-b623-9e8cb12e0c2b",
   "metadata": {},
   "outputs": [
    {
     "name": "stdout",
     "output_type": "stream",
     "text": [
      "[[1, 2, 3], [4, 5, 6]]\n"
     ]
    }
   ],
   "source": [
    "matrix_as_list = my_2D_array.tolist()\n",
    "print(matrix_as_list)"
   ]
  },
  {
   "cell_type": "markdown",
   "id": "b88c675c-87c1-4a47-a3bb-1ca1cd2f4925",
   "metadata": {},
   "source": [
    "2. We can make an array with np.zeros or np.ones. np.ones will make an array of all ones, while np.zeros will make an array of all zeros. Here, we must specify the dimensions of the array (and optionally the data type)."
   ]
  },
  {
   "cell_type": "code",
   "execution_count": 91,
   "id": "16558d01-e383-4fa7-8694-abb954a7d64b",
   "metadata": {},
   "outputs": [
    {
     "name": "stdout",
     "output_type": "stream",
     "text": [
      "Matrix 1\n",
      "[[1. 1. 1.]\n",
      " [1. 1. 1.]]\n",
      "float64\n",
      "\n",
      "\n",
      "Matrix 2\n",
      "[[[1 1 1 1 1]\n",
      "  [1 1 1 1 1]\n",
      "  [1 1 1 1 1]\n",
      "  [1 1 1 1 1]]\n",
      "\n",
      " [[1 1 1 1 1]\n",
      "  [1 1 1 1 1]\n",
      "  [1 1 1 1 1]\n",
      "  [1 1 1 1 1]]\n",
      "\n",
      " [[1 1 1 1 1]\n",
      "  [1 1 1 1 1]\n",
      "  [1 1 1 1 1]\n",
      "  [1 1 1 1 1]]]\n",
      "uint8\n"
     ]
    }
   ],
   "source": [
    "matrix1 = np.ones((2, 3))\n",
    "print(\"Matrix 1\")\n",
    "print(matrix1)\n",
    "print(matrix1.dtype)\n",
    "\n",
    "print(\"\\n\")\n",
    "\n",
    "matrix2 = np.ones((3, 4, 5), dtype=np.uint8)\n",
    "print(\"Matrix 2\")\n",
    "print(matrix2)\n",
    "print(matrix2.dtype)"
   ]
  },
  {
   "cell_type": "markdown",
   "id": "4225174b-3785-49e5-af8d-0a5e667cc593",
   "metadata": {},
   "source": [
    "Here, *matrix1* is a 2x3 matrix of floats (NumPy will infer a data type if you don't specify one). *matrix2* is a 3x4x5 array of *unsigned* 8 bit integers (i.e. representing number from 0 to (2^8)-1=255."
   ]
  },
  {
   "cell_type": "markdown",
   "id": "75459fc7-7c35-4723-85fc-7f04855a11c1",
   "metadata": {},
   "source": [
    "<h3> Array Properties</h3>\n",
    "\n",
    "We've already seen one property of an array- *dtype* is used to represent the type of data it stores. \n",
    "Arrays have many other attributes that can you access (using the standard dot notation)- you can find a full list <a href=https://numpy.org/doc/1.21/reference/arrays.ndarray.html#id1>here</a>. Of these, the ones I find myself using the most are:\n",
    "\n",
    "- shape - this provides a tuple of the array dimensions.\n",
    "- size - this provides the number of elements in the array.\n",
    "\n",
    "In general, we can change the *shape* of an array, as long as the *size* does not change. We can also transpose an array (similar to matrix transposition), using the .transpose() method."
   ]
  },
  {
   "cell_type": "code",
   "execution_count": 92,
   "id": "0841c644-acb8-450a-929f-19fafe0db065",
   "metadata": {},
   "outputs": [
    {
     "name": "stdout",
     "output_type": "stream",
     "text": [
      "Shape: (2, 3)\n",
      "Size: 6\n",
      "[[1 2 3 4 5 6]]\n",
      "Shape: (1, 6)\n",
      "Size: 6\n",
      "[[1]\n",
      " [2]\n",
      " [3]\n",
      " [4]\n",
      " [5]\n",
      " [6]]\n"
     ]
    }
   ],
   "source": [
    "array1 = np.array([[1, 2, 3], [4, 5, 6]])\n",
    "print(\"Shape:\", array1.shape)\n",
    "print(\"Size:\", array1.size)\n",
    "\n",
    "array2 = array1.reshape(1, 6)\n",
    "print(array2)\n",
    "print(\"Shape:\", array2.shape)\n",
    "print(\"Size:\", array2.size)\n",
    "\n",
    "print(array2.transpose())"
   ]
  },
  {
   "cell_type": "markdown",
   "id": "dfb6e7ee-3450-4515-b3fb-712760b2c384",
   "metadata": {},
   "source": [
    "<h3> Accessing Array Elements </h3>\n",
    "\n",
    "Accessing an element of a NumPy array is in many ways similar to a list. For a 1D array, we are square brackets ([]) to specify the index we want to access. e.g. "
   ]
  },
  {
   "cell_type": "code",
   "execution_count": 93,
   "id": "8522329e-fa9c-4371-8938-687a1b4ab28d",
   "metadata": {},
   "outputs": [
    {
     "name": "stdout",
     "output_type": "stream",
     "text": [
      "1\n"
     ]
    }
   ],
   "source": [
    "vector = np.array([0, 1, 2])\n",
    "print(vector[1])"
   ]
  },
  {
   "cell_type": "markdown",
   "id": "b144342a-85ee-4717-b1ee-a30455ccb9d5",
   "metadata": {},
   "source": [
    "Just like a list, we can use reverse and slice notation too. "
   ]
  },
  {
   "cell_type": "code",
   "execution_count": 94,
   "id": "fe613152-ae4a-4082-9a59-8910d339e258",
   "metadata": {},
   "outputs": [
    {
     "name": "stdout",
     "output_type": "stream",
     "text": [
      "Indexing with -1 will return the last element\n",
      "2\n",
      "\n",
      "Indexing with two numbers seperated by a colon will return a slice\n",
      "[1 2]\n"
     ]
    }
   ],
   "source": [
    "print(\"Indexing with -1 will return the last element\")\n",
    "print(vector[-1])\n",
    "print(\"\\nIndexing with two numbers seperated by a colon will return a slice\")\n",
    "print(vector[1:3])"
   ]
  },
  {
   "cell_type": "markdown",
   "id": "b749d6f0-1169-499a-8f99-ab902b5d00f6",
   "metadata": {},
   "source": [
    "\n",
    "<img src=\"https://github.com/engmaths/SEMT10002_2024/blob/main/img/array_axes.png?raw=true\" width=\"20%\">\n",
    "\n",
    "\n",
    "However, the syntax changes when we move from a 1D array to a 2D array. To access a single element of a 2D array, we need to specify two values-the index of the column and the index of the row. Both indices are specified within a single set of square brackets and separated by a comma (,). e.g. To get the top right element of a 2x2 matrix, we would access element [0, 0], while to access the bottom left element we would access element [1, 1]. e.g."
   ]
  },
  {
   "cell_type": "code",
   "execution_count": 95,
   "id": "84fe8cb0-3611-4522-8144-bdab5cbd33c5",
   "metadata": {},
   "outputs": [
    {
     "name": "stdout",
     "output_type": "stream",
     "text": [
      "Full matrix\n",
      "[[1 2]\n",
      " [3 4]]\n",
      "Accessing top right\n",
      "1\n",
      "Accessing bottom left\n",
      "4\n"
     ]
    }
   ],
   "source": [
    "matrix = np.array([[1, 2], [3, 4]])\n",
    "print(\"Full matrix\")\n",
    "print(matrix)\n",
    "print(\"Accessing top right\")\n",
    "print(matrix[0, 0])\n",
    "print(\"Accessing bottom left\")\n",
    "print(matrix[1, 1])\n"
   ]
  },
  {
   "cell_type": "markdown",
   "id": "c450b2be-5d46-420b-afd9-276323d9728c",
   "metadata": {},
   "source": [
    "If we want to access an entire row or column of an array, we can use a ':' to specify that we want all of a particular axis."
   ]
  },
  {
   "cell_type": "code",
   "execution_count": 96,
   "id": "a752203b-139f-4cc3-937a-dcfdf9645cb5",
   "metadata": {},
   "outputs": [
    {
     "name": "stdout",
     "output_type": "stream",
     "text": [
      "Top Row\n",
      "[1 2]\n",
      "Bottom\n",
      "[3 4]\n",
      "Left column\n",
      "[1 3]\n",
      "Right column\n",
      "[2 4]\n"
     ]
    }
   ],
   "source": [
    "print(\"Top Row\")\n",
    "print(matrix[0, :])\n",
    "print(\"Bottom\")\n",
    "print(matrix[1, :])\n",
    "print(\"Left column\")\n",
    "print(matrix[:, 0])\n",
    "print(\"Right column\")\n",
    "print(matrix[:, 1])"
   ]
  },
  {
   "cell_type": "markdown",
   "id": "4d5ebd7c-ad89-4cdf-9021-1199af278a8d",
   "metadata": {},
   "source": [
    "<h3> Exercise 1 - Making and Reshaping Arrays</h3>\n",
    "\n",
    "1. Create an array to represent the following 3x3 matrix\n",
    "\n",
    "$ \\begin{bmatrix}\n",
    "1 & 2 & 3 \\\\\n",
    "2 & 4 & 6 \\\\\n",
    "4 & 8 & 12 \n",
    "\\end{bmatrix}  $\n",
    "\n",
    "2. Turn the 3x3 matrix into a 1x9 matrix.\n",
    "3. Create a new 1x6 matrix by removing the first two and last elements of the 1x9 matrix.\n",
    "4. Turn this 1x6 matrix into a 3x2 matrix.\n",
    "5. The determinant of a 2x2 matrix\n",
    "\n",
    "$ \\begin{bmatrix}\n",
    "a & b  \\\\\n",
    "c & d  \\\\ \n",
    "\\end{bmatrix}  $\n",
    "\n",
    "is given by the formula $determinant = ad-bc$. Write some code to find the determinant of the matrix:\n",
    "\n",
    "$ \\begin{bmatrix}\n",
    "7 & 9  \\\\\n",
    "4 & 6  \\\\ \n",
    "\\end{bmatrix}  $"
   ]
  },
  {
   "cell_type": "code",
   "execution_count": 14,
   "id": "c321d212-b738-4e94-87db-f1d179be170e",
   "metadata": {},
   "outputs": [
    {
     "name": "stdout",
     "output_type": "stream",
     "text": [
      "[[ 1  2  3]\n",
      " [ 2  4  6]\n",
      " [ 4  8 12]]\n",
      "[[ 1  2  3  2  4  6  4  8 12]]\n",
      "[3 2 4 6 4 8]\n",
      "[[3 2]\n",
      " [4 6]\n",
      " [4 8]]\n"
     ]
    }
   ],
   "source": [
    "#Your code goes here.\n",
    "\n",
    "array = [[1,2,3],[2,4,6],[4,8,12]]\n",
    "\n",
    "matrix1 = np.array(array)\n",
    "print(matrix1)\n",
    "\n",
    "matrix1_reshaped = matrix1.reshape((1,9))\n",
    "print(matrix1_reshaped)\n",
    "\n",
    "matrix1_sliced = matrix1_reshaped[0, 2:-1]\n",
    "print(matrix1_sliced)\n",
    "\n",
    "matrix1_reshaped2 = matrix1_sliced.reshape((3, 2))\n",
    "print(matrix1_reshaped2)"
   ]
  },
  {
   "cell_type": "code",
   "execution_count": 18,
   "id": "5bf8960e",
   "metadata": {},
   "outputs": [
    {
     "name": "stdout",
     "output_type": "stream",
     "text": [
      "-2\n",
      "2\n"
     ]
    }
   ],
   "source": [
    "def determinant(array):\n",
    "    return array[0, 0] * array[1,1] - array[0, 1] * array[1, 0]\n",
    "\n",
    "two_by_two_matrix = np.array([[1,2],[3,4]])\n",
    "\n",
    "print(determinant(two_by_two_matrix))"
   ]
  },
  {
   "cell_type": "markdown",
   "id": "9f43da7a-4d71-46f8-aa29-65c79dc5d6ee",
   "metadata": {},
   "source": [
    "<h2> Array Operations and Vectorisation</h2>\n",
    "\n",
    "Much of the power of NumPy comes from its ability to efficiently apply operations to every element in an array. For example, if we wanted to double every element in a list, we might write the following code:\n"
   ]
  },
  {
   "cell_type": "code",
   "execution_count": 19,
   "id": "036f388d-64c9-4d58-8aba-0afb1510cacf",
   "metadata": {},
   "outputs": [
    {
     "name": "stdout",
     "output_type": "stream",
     "text": [
      "[2, 4, 6, 8, 10, 12]\n"
     ]
    }
   ],
   "source": [
    "initial_list = [1, 2, 3, 4, 5, 6]\n",
    "doubled_list = []\n",
    "\n",
    "for element in initial_list:\n",
    "    doubled_list.append(2 * element)\n",
    "\n",
    "print(doubled_list)"
   ]
  },
  {
   "cell_type": "markdown",
   "id": "61193f2c-f192-4fae-9fe9-997821b3fd70",
   "metadata": {},
   "source": [
    "We can achieve the same thing using more compact syntax with a list comprehension"
   ]
  },
  {
   "cell_type": "code",
   "execution_count": 98,
   "id": "f3634b10-3c57-40bb-b3a7-603af86710cc",
   "metadata": {},
   "outputs": [
    {
     "name": "stdout",
     "output_type": "stream",
     "text": [
      "[2, 4, 6, 8, 10, 12]\n"
     ]
    }
   ],
   "source": [
    "initial_list = [1, 2, 3, 4, 5, 6]\n",
    "doubled_list = [element*2 for element in initial_list]\n",
    "print(doubled_list)"
   ]
  },
  {
   "cell_type": "markdown",
   "id": "67637e56-69cb-4796-9a23-b511f3e62a4d",
   "metadata": {},
   "source": [
    "Using a NumPy array, we can avoid the loop altogether and just write:"
   ]
  },
  {
   "cell_type": "code",
   "execution_count": 99,
   "id": "17b792ee-5062-44f6-9865-df5cdb5f4932",
   "metadata": {},
   "outputs": [
    {
     "name": "stdout",
     "output_type": "stream",
     "text": [
      "[ 2  4  6  8 10 12]\n"
     ]
    }
   ],
   "source": [
    "initial_array = np.array([1, 2, 3, 4, 5, 6])\n",
    "doubled_array = 2 * initial_array\n",
    "print(doubled_array)"
   ]
  },
  {
   "cell_type": "markdown",
   "id": "e04fbda6-064d-4eb8-ba40-efa979697212",
   "metadata": {},
   "source": [
    "It's important to understand here that NumPy isn't just simplifying the syntax for us- by using memory and CPU caches more efficiently, the final piece of code will also run faster too. Now the speed-up for this exercise here may be marginal, but as code gets more complex, the difference will be meaningful."
   ]
  },
  {
   "cell_type": "markdown",
   "id": "28894a51-a72f-4ea2-94a1-a5ba545e949c",
   "metadata": {},
   "source": [
    "<h3> Mathematical Operations</h3>\n",
    "\n",
    "Numpy will vectorise many mathematical operators for us- additional, multiplication, and so on will automatically be applied element wise."
   ]
  },
  {
   "cell_type": "code",
   "execution_count": 100,
   "id": "80cd7767-6189-4994-9c9b-4c8f57237701",
   "metadata": {},
   "outputs": [
    {
     "name": "stdout",
     "output_type": "stream",
     "text": [
      "Addition\n",
      "[5 7 9]\n",
      "Subtraction\n",
      "[-3 -3 -3]\n",
      "Multiplication\n",
      "[ 4 10 18]\n",
      "Squaring\n",
      "[1 4 9]\n",
      "[16 25 36]\n"
     ]
    }
   ],
   "source": [
    "vector1 = np.array([1, 2, 3])\n",
    "vector2 = np.array([4, 5, 6])\n",
    "\n",
    "print(\"Addition\")\n",
    "print(vector1 + vector2)\n",
    "print(\"Subtraction\")\n",
    "print(vector1 - vector2)\n",
    "print(\"Multiplication\")\n",
    "print(vector1 * vector2)\n",
    "print(\"Squaring\")\n",
    "print(vector1**2)\n",
    "print(vector2**2)"
   ]
  },
  {
   "cell_type": "markdown",
   "id": "12b8ad74-6540-4c03-b5ae-fcf6682aff93",
   "metadata": {},
   "source": [
    "Note that these operations will only work if the corresponding mathematical operations are well-defined- if we try to add arrays of different lengths, for example, we would get an error."
   ]
  },
  {
   "cell_type": "code",
   "execution_count": 101,
   "id": "c264590f-3774-49d9-a4dd-8dab468b3700",
   "metadata": {},
   "outputs": [
    {
     "ename": "ValueError",
     "evalue": "operands could not be broadcast together with shapes (2,) (3,) ",
     "output_type": "error",
     "traceback": [
      "\u001b[0;31m---------------------------------------------------------------------------\u001b[0m",
      "\u001b[0;31mValueError\u001b[0m                                Traceback (most recent call last)",
      "Input \u001b[0;32mIn [101]\u001b[0m, in \u001b[0;36m<cell line: 3>\u001b[0;34m()\u001b[0m\n\u001b[1;32m      1\u001b[0m vector1 \u001b[38;5;241m=\u001b[39m np\u001b[38;5;241m.\u001b[39marray([\u001b[38;5;241m1\u001b[39m, \u001b[38;5;241m2\u001b[39m])\n\u001b[1;32m      2\u001b[0m vector2 \u001b[38;5;241m=\u001b[39m np\u001b[38;5;241m.\u001b[39marray([\u001b[38;5;241m4\u001b[39m, \u001b[38;5;241m5\u001b[39m, \u001b[38;5;241m6\u001b[39m])\n\u001b[0;32m----> 3\u001b[0m \u001b[38;5;28mprint\u001b[39m(\u001b[43mvector1\u001b[49m\u001b[38;5;241;43m+\u001b[39;49m\u001b[43mvector2\u001b[49m)\n",
      "\u001b[0;31mValueError\u001b[0m: operands could not be broadcast together with shapes (2,) (3,) "
     ]
    }
   ],
   "source": [
    "vector1 = np.array([1, 2])\n",
    "vector2 = np.array([4, 5, 6])\n",
    "print(vector1+vector2)"
   ]
  },
  {
   "cell_type": "markdown",
   "id": "d07d3aef-5376-4f12-865d-fbbeb2bff398",
   "metadata": {},
   "source": [
    "<h3> Logical Operations</h3>\n",
    "\n",
    "Just like mathematical operations, logical operations (such as <, >, ==) are also vectorised. If we write the expression ```array < value```, then we'll get a new array consisting only of True and False values. e.g."
   ]
  },
  {
   "cell_type": "code",
   "execution_count": 102,
   "id": "972c4e96-8ccd-416a-9b1d-d42a18bf6d66",
   "metadata": {},
   "outputs": [
    {
     "name": "stdout",
     "output_type": "stream",
     "text": [
      "[ True  True  True  True False False False False False False]\n"
     ]
    }
   ],
   "source": [
    "vector1 = np.array([1, 2, 3, 4, 5, 6, 7, 8, 9, 10])\n",
    "print(vector1 < 5)"
   ]
  },
  {
   "cell_type": "markdown",
   "id": "39c7dd40-8e33-42f0-9a04-6ee13c50f940",
   "metadata": {},
   "source": [
    "We can then use this boolean array to index into our original array-this will give us a new array containing only the values that satisfy our condition."
   ]
  },
  {
   "cell_type": "code",
   "execution_count": 21,
   "id": "9fa7f532-cc00-4b3a-b1b2-a6aaa97019fb",
   "metadata": {},
   "outputs": [
    {
     "name": "stdout",
     "output_type": "stream",
     "text": [
      "[1 2 3 4]\n"
     ]
    }
   ],
   "source": [
    "vector1 = np.array([1, 2, 3, 4, 5, 6, 7, 8, 9, 10])\n",
    "boolean_array = vector1 < 5\n",
    "print(vector1[boolean_array])"
   ]
  },
  {
   "cell_type": "markdown",
   "id": "25afca8a-8eb0-444c-8a25-19e3221f70fb",
   "metadata": {},
   "source": [
    "We can write this more compactly as:"
   ]
  },
  {
   "cell_type": "code",
   "execution_count": 22,
   "id": "2a50d07a-6f90-4aee-b90c-5378156fdd0d",
   "metadata": {},
   "outputs": [
    {
     "name": "stdout",
     "output_type": "stream",
     "text": [
      "[1 2 3 4]\n"
     ]
    }
   ],
   "source": [
    "print(vector1[vector1 < 5])"
   ]
  },
  {
   "cell_type": "markdown",
   "id": "ac1b4b5c-78de-4d81-b00e-efa5004bacef",
   "metadata": {},
   "source": [
    "<h3> Built-in functions</h3>\n",
    "\n",
    "Finally, NumPy has many built-in functions that we can use. All NumPy functions are vectorised, so can be applied to whole arrays without using a loop. We won't go through all of these, but you can find a list <a href=https://numpy.org/doc/stable/reference/routines.math.html>here</a>"
   ]
  },
  {
   "cell_type": "code",
   "execution_count": 23,
   "id": "e5065169-a821-460f-b75c-76a838194d77",
   "metadata": {},
   "outputs": [
    {
     "name": "stdout",
     "output_type": "stream",
     "text": [
      "[ 0.84147098  0.90929743  0.14112001 -0.7568025  -0.95892427 -0.2794155\n",
      "  0.6569866   0.98935825  0.41211849 -0.54402111]\n",
      "[ 1  4 10 20 35 56 70 76 73 60 36]\n"
     ]
    }
   ],
   "source": [
    "print(np.sin(vector1))\n",
    "\n",
    "array_A = np.array([1,2,3,4,5,6])\n",
    "array_B = np.array([1,2,3,4,5,6])\n",
    "\n",
    "convolution_AB = np.convolve(array_A, array_B)\n",
    "\n",
    "print(convolution_AB)"
   ]
  },
  {
   "cell_type": "markdown",
   "id": "b95289f2-b423-4d7e-9b64-7eba32d84ef0",
   "metadata": {},
   "source": [
    "<h3> Exercise 2</h3>\n",
    "\n",
    "1. Calculating mean squared error.\n",
    "\n",
    "In machine learning, it's common to work with models that make predict the value of things- for example, we could train a model to predict the number of medals that team GB is expected to win at the Olympics, or the number of admissions to hospital on a certain day of the year. One way of evaluating such a model is to calculate the mean squared error-this is given by the formula:\n",
    "\n",
    "$ MSE = \\frac{1}{n} \\sum_{i=1}^n(Y_{predicted, i} - Y_{actual, i})^2$\n",
    "\n",
    "where $n$ is the number of predictions, $Y_{predicted, i} is the ith prediction and Y_{actual, i} is the ith actual value. Given the following data set, write some code to calculate the mean squared error. \n"
   ]
  },
  {
   "cell_type": "code",
   "execution_count": 28,
   "id": "a458dbab-8cbc-419c-acfe-3f47260686cf",
   "metadata": {},
   "outputs": [
    {
     "name": "stdout",
     "output_type": "stream",
     "text": [
      "2.7777777777777777\n"
     ]
    }
   ],
   "source": [
    "predictions = np.array([4, 5, 6, 1, 2, 6, 8, 9, 10])\n",
    "actual = np.array([5, 5, 6, 2, 3, 5, 4, 7, 9])\n",
    "\n",
    "#Your code goes here.\n",
    "\n",
    "n = predictions.size\n",
    "\n",
    "mse = sum((predictions - actual)**2) / n\n",
    "\n",
    "print(mse)"
   ]
  },
  {
   "cell_type": "markdown",
   "id": "bc6b2f27-a647-46cf-98f6-203121f2faa8",
   "metadata": {},
   "source": [
    "2. The function np.roots (look up the details in the NumPy documentation) can be used to find the roots of polynomial equations. Use np.roots to find the roots of the following Polynomials:\n",
    "\n",
    "- $ x^2 - 2x + 1 $\n",
    "- A 1000 degree polynomial with random integers co-efficients\n"
   ]
  },
  {
   "cell_type": "code",
   "execution_count": 33,
   "id": "c648cd59-c555-422d-8aaa-4be38a941de9",
   "metadata": {},
   "outputs": [
    {
     "name": "stdout",
     "output_type": "stream",
     "text": [
      "[1. 1.]\n",
      "[0.70271461 0.68151879 0.84739591 0.89761371 0.4068551  0.42983171\n",
      " 0.19585832 0.1000674  0.36980869 0.93369107 0.9270821  0.13130433\n",
      " 0.22821611 0.79072856 0.87149706 0.92372104 0.26013252 0.67811512\n",
      " 0.39807785 0.46921537 0.53944488 0.94897219 0.50930228 0.98987384\n",
      " 0.03138981 0.01560607 0.19290254 0.57376195 0.13025887 0.38622763\n",
      " 0.67637064 0.34936848 0.38405945 0.68459007 0.1772515  0.7776033\n",
      " 0.11101938 0.54254898 0.86444352 0.02274013 0.62645796 0.45177556\n",
      " 0.69859299 0.73043917 0.94201765 0.92981993 0.88174751 0.09153499\n",
      " 0.79718848 0.26165618 0.84266185 0.3321316  0.0672883  0.59831776\n",
      " 0.62756032 0.7328618  0.30010171 0.12500151 0.28264248 0.9332974\n",
      " 0.48874827 0.86198983 0.80686813 0.49780774 0.99843582 0.342837\n",
      " 0.8096715  0.61043653 0.07587249 0.3263205  0.37524944 0.90851911\n",
      " 0.43598235 0.86670967 0.56504072 0.66012225 0.95944891 0.95948634\n",
      " 0.0106516  0.46589765 0.45965477 0.05844066 0.93285952 0.20994547\n",
      " 0.21691267 0.55608435 0.92022507 0.14551075 0.18001663 0.43142377\n",
      " 0.16985657 0.05799312 0.46907574 0.88630969 0.17537303 0.71391437\n",
      " 0.4126176  0.1510847  0.72639758 0.08462671 0.91584066 0.76202339\n",
      " 0.01982344 0.78817882 0.37011011 0.19208069 0.79099823 0.39209577\n",
      " 0.49286005 0.96871121 0.86463187 0.91584406 0.20989464 0.72381014\n",
      " 0.38907055 0.64161947 0.60568994 0.65711586 0.58295629 0.95519612\n",
      " 0.35477286 0.1101475  0.83769346 0.07984158 0.71625605 0.448301\n",
      " 0.52411087 0.19293201 0.47853285 0.0367203  0.79721608 0.18706027\n",
      " 0.00547032 0.73056698 0.37843485 0.69893825 0.98302738 0.04339219\n",
      " 0.71007804 0.61740353 0.30722287 0.32591641 0.84698328 0.89947508\n",
      " 0.19193166 0.53315525 0.17668223 0.32068423 0.89337243 0.43226825\n",
      " 0.27512467 0.56125265 0.57619877 0.89960706 0.14962921 0.8214488\n",
      " 0.80760698 0.6463133  0.20945261 0.12970154 0.21291037 0.56119075\n",
      " 0.05191797 0.56582347 0.89281754 0.17508387 0.93388018 0.33848901\n",
      " 0.61805103 0.60766279 0.66355351 0.76992531 0.50073243 0.58879591\n",
      " 0.17013097 0.76264762 0.5511138  0.51778983 0.31148727 0.27985844\n",
      " 0.80693455 0.60047417 0.95854815 0.45225511 0.43384893 0.46130451\n",
      " 0.02707094 0.69030885 0.57956077 0.63600578 0.99723324 0.37803439\n",
      " 0.9318821  0.26211344 0.3974845  0.11345823 0.32178707 0.35493134\n",
      " 0.99229742 0.98763726 0.75588497 0.95155673 0.47950204 0.19612279\n",
      " 0.4229054  0.32001671 0.54087105 0.39326645 0.1150974  0.83058412\n",
      " 0.1813721  0.92133505 0.56766435 0.94374187 0.44364319 0.42777483\n",
      " 0.32788251 0.65071074 0.12027903 0.4937199  0.97783908 0.60078832\n",
      " 0.22420782 0.78161295 0.53394534 0.54810472 0.45159396 0.35546946\n",
      " 0.40301983 0.49178932 0.45997517 0.50632018 0.6106878  0.73787261\n",
      " 0.70328191 0.82070072 0.05125878 0.66433553 0.4743204  0.36906799\n",
      " 0.1489403  0.46292166 0.23665306 0.24350207 0.61253609 0.26880426\n",
      " 0.48324809 0.48809226 0.46638133 0.2120603  0.02639391 0.20770707\n",
      " 0.40455946 0.46091117 0.48379827 0.3226046  0.67249698 0.33543301\n",
      " 0.69694405 0.6842167  0.82266226 0.77050297 0.90969379 0.83583422\n",
      " 0.5560757  0.65533058 0.87018145 0.21463335 0.63512171 0.01144477\n",
      " 0.50613071 0.17189052 0.72560963 0.36169124 0.07890399 0.47635398\n",
      " 0.9401766  0.34999384 0.64524136 0.35327182 0.2924358  0.6868218\n",
      " 0.92659458 0.58406176 0.45706801 0.28863378 0.54569995 0.0934992\n",
      " 0.52078747 0.00647087 0.06268476 0.31987081 0.85944202 0.09788168\n",
      " 0.52120234 0.29843668 0.5079765  0.8005606  0.74922576 0.26869829\n",
      " 0.85678205 0.52142843 0.29922487 0.7793045  0.23135594 0.99717362\n",
      " 0.49836647 0.87957293 0.8757614  0.31958069 0.1056003  0.12197286\n",
      " 0.4733707  0.26399218 0.79764574 0.80495303 0.07412717 0.19125362\n",
      " 0.17253953 0.07019637 0.176003   0.80132023 0.38122647 0.3983294\n",
      " 0.86196024 0.74843906 0.88654876 0.7960322  0.70692132 0.2110048\n",
      " 0.54646863 0.09617003 0.82305038 0.83419289 0.08671871 0.32232418\n",
      " 0.15272816 0.79232885 0.11629653 0.81872737 0.06268033 0.5379633\n",
      " 0.51903094 0.148423   0.09260085 0.52493291 0.12233457 0.4001099\n",
      " 0.64094067 0.03233408 0.86381212 0.61657247 0.8621453  0.71880492\n",
      " 0.72591366 0.60060673 0.13998146 0.3226426  0.24099219 0.83253232\n",
      " 0.37262182 0.62984294 0.6775998  0.19685968 0.0725475  0.56154804\n",
      " 0.36104818 0.17153656 0.05168848 0.60552049 0.58781936 0.262927\n",
      " 0.65978912 0.94880036 0.1132263  0.46546113 0.46605854 0.48341728\n",
      " 0.23103505 0.7339676  0.00303129 0.03575739 0.44366078 0.04415888\n",
      " 0.21638795 0.12481067 0.88430589 0.17395778 0.77809213 0.61778025\n",
      " 0.85858766 0.25297086 0.80598985 0.12380748 0.71302608 0.78677289\n",
      " 0.0599398  0.89859461 0.26254664 0.62802042 0.99535053 0.29738743\n",
      " 0.33337499 0.51814338 0.34700018 0.24840026 0.79040161 0.67501081\n",
      " 0.58239421 0.60326764 0.88723015 0.12946929 0.37129069 0.31507831\n",
      " 0.10735541 0.5451761  0.09758885 0.02292406 0.06805982 0.8711165\n",
      " 0.39652837 0.89679078 0.31278941 0.59011959 0.31371517 0.59519684\n",
      " 0.7539576  0.13742629 0.88167122 0.56860918 0.7400126  0.17078965\n",
      " 0.35666222 0.23110601 0.08838191 0.61280679 0.84492036 0.12281307\n",
      " 0.23102734 0.30928932 0.08258176 0.55690567 0.18660456 0.60861392\n",
      " 0.76259923 0.9492132  0.91707818 0.99907706 0.61267061 0.0830549\n",
      " 0.41565241 0.11684312 0.06094369 0.66612279 0.86091703 0.1505719\n",
      " 0.51112475 0.47964981 0.92482818 0.77489464 0.43078348 0.79967645\n",
      " 0.26473273 0.00989057 0.06665967 0.00288173 0.034336   0.81369266\n",
      " 0.53491919 0.27370836 0.82590854 0.03808222 0.42527823 0.80120961\n",
      " 0.79134235 0.6392145  0.95060239 0.70868013 0.69555838 0.2376029\n",
      " 0.39596942 0.53457157 0.89636493 0.66504326 0.68144846 0.31980375\n",
      " 0.18774014 0.80143977 0.06570725 0.27636975 0.374654   0.95257886\n",
      " 0.24856307 0.83003758 0.86302301 0.63808937 0.85385098 0.33102561\n",
      " 0.90915263 0.97261502 0.52632531 0.75364193 0.96026287 0.1060781\n",
      " 0.8574858  0.15113628 0.75207056 0.33457167 0.40701526 0.48053121\n",
      " 0.70867825 0.12571053 0.49701748 0.81906468 0.92877545 0.20344561\n",
      " 0.8710293  0.60123162 0.66019515 0.5578981  0.7921255  0.30625991\n",
      " 0.07697114 0.5349933  0.94503475 0.19742403 0.4480658  0.10093503\n",
      " 0.87533292 0.09862289 0.86403309 0.72669855 0.20746143 0.28850816\n",
      " 0.06805313 0.30002867 0.04743025 0.58171757 0.37293247 0.35999239\n",
      " 0.92546946 0.19610791 0.58631542 0.2876768  0.28757406 0.20823899\n",
      " 0.92354687 0.39120242 0.08311554 0.01002576 0.5547172  0.30207633\n",
      " 0.20189529 0.79894852 0.18282594 0.92189929 0.88414927 0.36273808\n",
      " 0.55334557 0.75203869 0.71735725 0.12807572 0.34839467 0.48244762\n",
      " 0.28701304 0.08908857 0.75488902 0.81517429 0.13831575 0.64621491\n",
      " 0.80626469 0.16125531 0.94928112 0.109942   0.70415579 0.54541026\n",
      " 0.82741259 0.45859061 0.08865017 0.78601459 0.10387891 0.90662166\n",
      " 0.62752038 0.35397707 0.15925376 0.197545   0.44220148 0.64283603\n",
      " 0.1630068  0.57890056 0.0633805  0.28378515 0.79227039 0.05210119\n",
      " 0.79381911 0.07067998 0.96323189 0.76581634 0.30261114 0.03345113\n",
      " 0.00150583 0.24724425 0.8063104  0.25439214 0.41812626 0.06729514\n",
      " 0.58431011 0.37169501 0.44115324 0.32237338 0.70605534 0.10376186\n",
      " 0.42318631 0.55948896 0.1208508  0.8919361  0.90816554 0.88865585\n",
      " 0.24876507 0.38480944 0.41143486 0.58084441 0.1776637  0.13022068\n",
      " 0.62886095 0.76165956 0.25094268 0.46490959 0.35622514 0.93850758\n",
      " 0.93687102 0.91298378 0.83239169 0.24189265 0.40439817 0.0908392\n",
      " 0.0446174  0.94001179 0.87683333 0.20007667 0.1872156  0.18877783\n",
      " 0.9170143  0.88192336 0.32179073 0.98094661 0.41051543 0.9994668\n",
      " 0.3464067  0.57586772 0.48546092 0.42581228 0.86442792 0.29017666\n",
      " 0.39412786 0.42133712 0.79978971 0.01151777 0.24547361 0.06778475\n",
      " 0.41517343 0.76874316 0.66317679 0.73906835 0.04121119 0.98071787\n",
      " 0.68755227 0.04166162 0.8575284  0.77071677 0.74224063 0.11044166\n",
      " 0.89436125 0.89877752 0.71766542 0.93438472 0.20266351 0.03304862\n",
      " 0.5674126  0.74160973 0.82129713 0.72808166 0.3367172  0.44213505\n",
      " 0.91717509 0.32951764 0.95123868 0.33114409 0.77703873 0.33938475\n",
      " 0.83452083 0.77279557 0.25038726 0.74839409 0.49084444 0.78425361\n",
      " 0.72278215 0.7017531  0.56074617 0.80622389 0.85062379 0.68862408\n",
      " 0.44871485 0.68212554 0.57877707 0.99691703 0.6857426  0.65497973\n",
      " 0.47001477 0.01132552 0.69049606 0.28814144 0.45724576 0.9676814\n",
      " 0.65987399 0.63478241 0.37936683 0.15654917 0.49063581 0.61663724\n",
      " 0.52637911 0.1122969  0.54267925 0.12029116 0.41459122 0.12864044\n",
      " 0.5929697  0.60555222 0.109525   0.56925128 0.6930321  0.62437755\n",
      " 0.962131   0.85487841 0.51787117 0.71085634 0.21958451 0.6201853\n",
      " 0.42987523 0.62103893 0.51801035 0.17296516 0.38189263 0.42314354\n",
      " 0.15266811 0.43371143 0.27221087 0.25654551 0.25356548 0.50075638\n",
      " 0.22530134 0.73259412 0.80028526 0.82416684 0.36835298 0.04552872\n",
      " 0.26833057 0.53566038 0.93400249 0.66734605 0.70908717 0.41065266\n",
      " 0.94718194 0.961289   0.03084324 0.17721919 0.47242101 0.66056455\n",
      " 0.61335727 0.086956   0.64206368 0.05049736 0.64097745 0.13989771\n",
      " 0.21910994 0.17809113 0.39023851 0.79535908 0.02259092 0.84403799\n",
      " 0.44692509 0.0714688  0.68208333 0.28205769 0.42664544 0.47678648\n",
      " 0.47352611 0.21323749 0.76009686 0.04208006 0.69723968 0.09454862\n",
      " 0.4978174  0.05145983 0.07719871 0.88204629 0.33414276 0.82244836\n",
      " 0.25666349 0.52738825 0.31055543 0.28464296 0.96415953 0.99905942\n",
      " 0.27507116 0.01489016 0.09168781 0.02098786 0.1228024  0.68307875\n",
      " 0.69672043 0.80039184 0.21692673 0.24497861 0.3995502  0.49380872\n",
      " 0.71934121 0.98131933 0.75667076 0.61893104 0.22988028 0.92437659\n",
      " 0.53999458 0.94624294 0.33248854 0.02963315 0.57842922 0.11185843\n",
      " 0.32207899 0.27177998 0.2764871  0.18214049 0.43788574 0.51189209\n",
      " 0.42849865 0.21001397 0.21221644 0.16036388 0.13893643 0.19843128\n",
      " 0.04072451 0.2599556  0.35185794 0.94420105 0.92290376 0.98174459\n",
      " 0.69939557 0.71260521 0.6788408  0.66504775 0.9041569  0.42279403\n",
      " 0.76241623 0.45021404 0.3171351  0.28215463 0.46675374 0.22817482\n",
      " 0.09607968 0.84398028 0.39270471 0.78487534 0.72116185 0.96340239\n",
      " 0.41325992 0.31307371 0.51237523 0.37035512 0.64727574 0.30214331\n",
      " 0.06770165 0.41948321 0.55971819 0.84800033 0.84838113 0.07188842\n",
      " 0.3702922  0.79430029 0.55246669 0.72502245 0.50777955 0.32845247\n",
      " 0.21898777 0.90899528 0.2743753  0.75972864 0.35754808 0.5416757\n",
      " 0.18321337 0.89539579 0.8378792  0.73874859 0.50296551 0.9222425\n",
      " 0.68103327 0.44652505 0.85670944 0.00864411 0.35670393 0.43261157\n",
      " 0.51355381 0.15443778 0.84399844 0.85771391 0.17434296 0.30049278\n",
      " 0.90138936 0.17242741 0.94026137 0.14938282 0.35580418 0.28225777\n",
      " 0.83041581 0.66841756 0.35237189 0.35528557 0.10302382 0.36164824\n",
      " 0.97530972 0.32064527 0.55265361 0.0918957  0.89431518 0.6933028\n",
      " 0.63296906 0.35159678 0.81960966 0.58060027 0.10609284 0.44189971\n",
      " 0.08342392 0.47867911 0.20822914 0.73149857 0.85376313 0.5194075\n",
      " 0.73414951 0.21590571 0.03520419 0.81135742 0.49309395 0.15811632\n",
      " 0.12394908 0.03954392 0.86022866 0.51782961 0.87177698 0.14511767\n",
      " 0.33131901 0.9339934  0.05233559 0.47686849 0.47662093 0.64621108\n",
      " 0.68215991 0.45297254 0.55627247 0.60095628 0.4881432  0.0607573\n",
      " 0.4768824  0.74877718 0.5639174  0.27854667 0.79788603 0.6206686\n",
      " 0.19275687 0.64451556 0.18626673 0.80356662 0.68880024 0.19830599\n",
      " 0.49027548 0.553143   0.24450305 0.22293108 0.18812587 0.08945951\n",
      " 0.5902601  0.05377523 0.12029024 0.65188539 0.20112473 0.57889513\n",
      " 0.20381901 0.49325445 0.71126829 0.39426572 0.34353566 0.39056821\n",
      " 0.756423   0.60584209 0.09992865 0.81547819 0.42819958 0.21116097\n",
      " 0.26345086 0.71620953 0.78931815 0.20721221]\n",
      "[-0.14919723+1.1267858j  -0.14919723-1.1267858j  -1.11466443+0.j\n",
      "  0.42256497+1.03616875j  0.42256497-1.03616875j  0.71868099+0.7226087j\n",
      "  0.71868099-0.7226087j  -0.77269465+0.70013796j -0.77269465-0.70013796j\n",
      " -1.00270351+0.32899916j -1.00270351-0.32899916j -0.68190634+0.7913611j\n",
      " -0.68190634-0.7913611j  -0.88340608+0.52421314j -0.88340608-0.52421314j\n",
      " -0.69709689+0.73331909j -0.69709689-0.73331909j -0.74493094+0.66912448j\n",
      " -0.74493094-0.66912448j -0.73919151+0.67203884j -0.73919151-0.67203884j\n",
      " -0.73315475+0.67833941j -0.73315475-0.67833941j -0.71994995+0.69340626j\n",
      " -0.71994995-0.69340626j -0.72593126+0.68266872j -0.72593126-0.68266872j\n",
      " -0.72576768+0.68616064j -0.72576768-0.68616064j -0.75383703+0.65903963j\n",
      " -0.75383703-0.65903963j -0.74947104+0.660175j   -0.74947104-0.660175j\n",
      " -0.71278935+0.69858554j -0.71278935-0.69858554j -0.70936926+0.70529791j\n",
      " -0.70936926-0.70529791j -0.7056192 +0.70865746j -0.7056192 -0.70865746j\n",
      " -0.75727089+0.65265258j -0.75727089-0.65265258j -0.63638675+0.78346641j\n",
      " -0.63638675-0.78346641j -0.76312275+0.64797224j -0.76312275-0.64797224j\n",
      " -0.70142321+0.71297505j -0.70142321-0.71297505j -0.76732231+0.64253938j\n",
      " -0.76732231-0.64253938j -0.69274104+0.71664645j -0.69274104-0.71664645j\n",
      " -0.68503114+0.73087201j -0.68503114-0.73087201j -0.68765109+0.71873609j\n",
      " -0.68765109-0.71873609j -0.77729285+0.63177053j -0.77729285-0.63177053j\n",
      " -0.77032225+0.63626697j -0.77032225-0.63626697j -0.67539045+0.73819839j\n",
      " -0.67539045-0.73819839j -0.67670884+0.73116241j -0.67670884-0.73116241j\n",
      " -0.78533758+0.62270525j -0.78533758-0.62270525j -0.66649875+0.74461997j\n",
      " -0.66649875-0.74461997j -0.66105981+0.74898193j -0.66105981-0.74898193j\n",
      " -0.7887499 +0.61785243j -0.7887499 -0.61785243j -0.65222884+0.7589004j\n",
      " -0.65222884-0.7589004j  -0.64755702+0.76433216j -0.64755702-0.76433216j\n",
      " -0.65451762+0.75167786j -0.65451762-0.75167786j -0.79493591+0.60920289j\n",
      " -0.79493591-0.60920289j -0.60307761+0.80696996j -0.60307761-0.80696996j\n",
      " -0.77704952+0.62062405j -0.77704952-0.62062405j  0.69105579+0.72848916j\n",
      "  0.69105579-0.72848916j  0.74863087+0.66754018j  0.74863087-0.66754018j\n",
      "  0.73346952+0.68175587j  0.73346952-0.68175587j  0.73577435+0.67753843j\n",
      "  0.73577435-0.67753843j  0.74372106+0.67063095j  0.74372106-0.67063095j\n",
      "  0.67718644+0.73791388j  0.67718644-0.73791388j  0.67359564+0.74069923j\n",
      "  0.67359564-0.74069923j  0.72855713+0.68640615j  0.72855713-0.68640615j\n",
      "  0.66809358+0.74675479j  0.66809358-0.74675479j  0.72125569+0.69270858j\n",
      "  0.72125569-0.69270858j  0.75429974+0.6590776j   0.75429974-0.6590776j\n",
      "  0.71304118+0.70173597j  0.71304118-0.70173597j  0.70863736+0.7036301j\n",
      "  0.70863736-0.7036301j   0.65929115+0.75337371j  0.65929115-0.75337371j\n",
      "  0.69774402+0.7154721j   0.69774402-0.7154721j   0.75795069+0.65381025j\n",
      "  0.75795069-0.65381025j  0.78463619+0.6276552j   0.78463619-0.6276552j\n",
      "  0.64383348+0.7682199j   0.64383348-0.7682199j   0.77824105+0.63283946j\n",
      "  0.77824105-0.63283946j  0.65326852+0.75703829j  0.65326852-0.75703829j\n",
      "  0.69252141+0.71654924j  0.69252141-0.71654924j  0.74703818+0.65977125j\n",
      "  0.74703818-0.65977125j -0.80241565+0.597982j   -0.80241565-0.597982j\n",
      " -0.79263737+0.60421909j -0.79263737-0.60421909j -0.62729316+0.7809563j\n",
      " -0.62729316-0.7809563j  -0.63755367+0.76661296j -0.63755367-0.76661296j\n",
      " -0.62351671+0.78269029j -0.62351671-0.78269029j  0.63716963+0.77318913j\n",
      "  0.63716963-0.77318913j  0.64676785+0.76136563j  0.64676785-0.76136563j\n",
      "  0.67778237+0.72736142j  0.67778237-0.72736142j  0.76108408+0.64498035j\n",
      "  0.76108408-0.64498035j  0.76558442+0.64067649j  0.76558442-0.64067649j\n",
      "  0.77185689+0.63548319j  0.77185689-0.63548319j  0.68144299+0.71973092j\n",
      "  0.68144299-0.71973092j  0.65977731+0.74599507j  0.65977731-0.74599507j\n",
      "  0.69955736+0.70513107j  0.69955736-0.70513107j -0.82216227+0.57748164j\n",
      " -0.82216227-0.57748164j -0.80653787+0.59099843j -0.80653787-0.59099843j\n",
      " -0.63318216+0.76863647j -0.63318216-0.76863647j  0.79582675+0.61127096j\n",
      "  0.79582675-0.61127096j  0.6174396 +0.7894632j   0.6174396 -0.7894632j\n",
      " -0.82888007+0.56676215j -0.82888007-0.56676215j -0.81386795+0.57973374j\n",
      " -0.81386795-0.57973374j -0.80797765+0.58465588j -0.80797765-0.58465588j\n",
      " -0.8223951 +0.5708034j  -0.8223951 -0.5708034j  -0.78166104+0.59903661j\n",
      " -0.78166104-0.59903661j  0.62654628+0.77820159j  0.62654628-0.77820159j\n",
      "  0.61182143+0.79414525j  0.61182143-0.79414525j  0.62253825+0.78119679j\n",
      "  0.62253825-0.78119679j  0.71785939+0.68202091j  0.71785939-0.68202091j\n",
      "  0.6301918 +0.76916381j  0.6301918 -0.76916381j -0.83130755+0.55533237j\n",
      " -0.83130755-0.55533237j  0.60562687+0.79714329j  0.60562687-0.79714329j\n",
      "  0.79403163+0.6090143j   0.79403163-0.6090143j  -0.5945536 +0.80774414j\n",
      " -0.5945536 -0.80774414j -0.61484245+0.78605552j -0.61484245-0.78605552j\n",
      " -0.84146984+0.54329408j -0.84146984-0.54329408j -0.60978175+0.79212801j\n",
      " -0.60978175-0.79212801j -0.8216891 +0.55977098j -0.8216891 -0.55977098j\n",
      " -0.84921315+0.53434328j -0.84921315-0.53434328j -0.83506522+0.54787374j\n",
      " -0.83506522-0.54787374j  0.78007773+0.62125935j  0.78007773-0.62125935j\n",
      "  0.80160989+0.60025151j  0.80160989-0.60025151j -0.60274825+0.79549543j\n",
      " -0.60274825-0.79549543j -0.84289428+0.5358042j  -0.84289428-0.5358042j\n",
      "  0.78175476+0.61348791j  0.78175476-0.61348791j -0.85609839+0.52365448j\n",
      " -0.85609839-0.52365448j  0.59280944+0.80742873j  0.59280944-0.80742873j\n",
      "  0.59708919+0.79862423j  0.59708919-0.79862423j -0.58105154+0.81646997j\n",
      " -0.58105154-0.81646997j -0.84882535+0.52390867j -0.84882535-0.52390867j\n",
      " -0.85964163+0.51313446j -0.85964163-0.51313446j  0.80668987+0.59053886j\n",
      "  0.80668987-0.59053886j  0.79727507+0.59628528j  0.79727507-0.59628528j\n",
      " -0.58894368+0.80061435j -0.58894368-0.80061435j -0.58422336+0.80675169j\n",
      " -0.58422336-0.80675169j  0.58771794+0.80755432j  0.58771794-0.80755432j\n",
      "  0.8111854 +0.58450306j  0.8111854 -0.58450306j  0.81730461+0.57837028j\n",
      "  0.81730461-0.57837028j  0.81984007+0.57353778j  0.81984007-0.57353778j\n",
      " -0.86237575+0.50596436j -0.86237575-0.50596436j -0.57463061+0.81788891j\n",
      " -0.57463061-0.81788891j -0.86701835+0.49781404j -0.86701835-0.49781404j\n",
      " -0.87634954+0.48846537j -0.87634954-0.48846537j  0.82310756+0.56649943j\n",
      "  0.82310756-0.56649943j  0.57423598+0.8202484j   0.57423598-0.8202484j\n",
      " -0.56800117+0.82416764j -0.56800117-0.82416764j -0.8988686 +0.46080789j\n",
      " -0.8988686 -0.46080789j  0.57894428+0.81201303j  0.57894428-0.81201303j\n",
      "  0.57611374+0.8154943j   0.57611374-0.8154943j   0.56860885+0.82467322j\n",
      "  0.56860885-0.82467322j -0.87663873+0.48316677j -0.87663873-0.48316677j\n",
      " -0.55723711+0.83351485j -0.55723711-0.83351485j -0.56242881+0.82438498j\n",
      " -0.56242881-0.82438498j  0.59924404+0.78584958j  0.59924404-0.78584958j\n",
      " -0.87022309+0.48730623j -0.87022309-0.48730623j  0.82759925+0.55931594j\n",
      "  0.82759925-0.55931594j -0.55414345+0.83259395j -0.55414345-0.83259395j\n",
      " -0.85282003+0.4934597j  -0.85282003-0.4934597j   0.83595698+0.55165926j\n",
      "  0.83595698-0.55165926j -0.88050326+0.47278071j -0.88050326-0.47278071j\n",
      " -0.54722591+0.84155112j -0.54722591-0.84155112j  0.56084452+0.82992162j\n",
      "  0.56084452-0.82992162j  0.86052865+0.52833749j  0.86052865-0.52833749j\n",
      " -0.50031565+0.88638009j -0.50031565-0.88638009j -0.44794953+0.9303767j\n",
      " -0.44794953-0.9303767j  -0.88141791+0.46914889j -0.88141791-0.46914889j\n",
      "  0.83057494+0.55188538j  0.83057494-0.55188538j -0.88718659+0.46055361j\n",
      " -0.88718659-0.46055361j  0.83882959+0.54466666j  0.83882959-0.54466666j\n",
      " -0.89245838+0.45212015j -0.89245838-0.45212015j  0.55255402+0.83251007j\n",
      "  0.55255402-0.83251007j -0.54068218+0.83931623j -0.54068218-0.83931623j\n",
      " -0.92273678+0.417061j   -0.92273678-0.417061j   -0.89551417+0.44415088j\n",
      " -0.89551417-0.44415088j -0.53340319+0.84408944j -0.53340319-0.84408944j\n",
      "  0.54025133+0.84409762j  0.54025133-0.84409762j  0.54277637+0.84059614j\n",
      "  0.54277637-0.84059614j  0.84141693+0.53678822j  0.84141693-0.53678822j\n",
      "  0.7862588 +0.58380794j  0.7862588 -0.58380794j -0.52774798+0.85061101j\n",
      " -0.52774798-0.85061101j  0.52903276+0.8514139j   0.52903276-0.8514139j\n",
      "  0.54764478+0.82805165j  0.54764478-0.82805165j -0.52500926+0.8453253j\n",
      " -0.52500926-0.8453253j  -0.89871815+0.43744023j -0.89871815-0.43744023j\n",
      "  0.53378929+0.84362842j  0.53378929-0.84362842j -0.90456796+0.42931046j\n",
      " -0.90456796-0.42931046j  0.84473311+0.53195851j  0.84473311-0.53195851j\n",
      " -0.51822248+0.85313042j -0.51822248-0.85313042j  0.85219232+0.52456839j\n",
      "  0.85219232-0.52456839j -0.89888964+0.42698314j -0.89888964-0.42698314j\n",
      "  0.52007895+0.85425448j  0.52007895-0.85425448j -0.90848475+0.41734923j\n",
      " -0.90848475-0.41734923j -0.9142349 +0.40809189j -0.9142349 -0.40809189j\n",
      " -0.9218182 +0.39935937j -0.9218182 -0.39935937j  0.51195722+0.85791567j\n",
      "  0.51195722-0.85791567j  0.50861478+0.861159j    0.50861478-0.861159j\n",
      " -0.51084679+0.85888674j -0.51084679-0.85888674j  0.86571528+0.50508151j\n",
      "  0.86571528-0.50508151j  0.52062943+0.84179382j  0.52062943-0.84179382j\n",
      "  0.85466052+0.51451038j  0.85466052-0.51451038j -0.90546061+0.4087963j\n",
      " -0.90546061-0.4087963j  -0.92551798+0.38846131j -0.92551798-0.38846131j\n",
      " -0.50353807+0.86160359j -0.50353807-0.86160359j -0.92817108+0.37970242j\n",
      " -0.92817108-0.37970242j -0.91879996+0.391392j   -0.91879996-0.391392j\n",
      " -0.49861008+0.86687989j -0.49861008-0.86687989j  0.50367761+0.86436405j\n",
      "  0.50367761-0.86436405j  0.86022674+0.50572821j  0.86022674-0.50572821j\n",
      "  0.40069674+0.95105188j  0.40069674-0.95105188j  0.87340911+0.49484131j\n",
      "  0.87340911-0.49484131j -0.93078155+0.36801583j -0.93078155-0.36801583j\n",
      "  0.4866927 +0.8789593j   0.4866927 -0.8789593j  -0.9213492 +0.37403639j\n",
      " -0.9213492 -0.37403639j  0.49232002+0.87076538j  0.49232002-0.87076538j\n",
      " -0.60817553+0.69175568j -0.60817553-0.69175568j  0.83409415+0.52174399j\n",
      "  0.83409415-0.52174399j  0.49410534+0.86630757j  0.49410534-0.86630757j\n",
      "  0.86360221+0.49684949j  0.86360221-0.49684949j  0.88704318+0.47468035j\n",
      "  0.88704318-0.47468035j -0.49175647+0.86857581j -0.49175647-0.86857581j\n",
      " -0.4867674 +0.8724079j  -0.4867674 -0.8724079j  -0.93415651+0.3599358j\n",
      " -0.93415651-0.3599358j  -0.47600795+0.88279567j -0.47600795-0.88279567j\n",
      "  0.87239897+0.48488544j  0.87239897-0.48488544j -0.93562865+0.35355067j\n",
      " -0.93562865-0.35355067j  0.87819212+0.47997211j  0.87819212-0.47997211j\n",
      " -0.47819776+0.87711503j -0.47819776-0.87711503j -0.94123175+0.3405786j\n",
      " -0.94123175-0.3405786j  -0.93504344+0.34766469j -0.93504344-0.34766469j\n",
      " -0.94289607+0.33513401j -0.94289607-0.33513401j -1.00436138+0.24338971j\n",
      " -1.00436138-0.24338971j  0.47996214+0.87816309j  0.47996214-0.87816309j\n",
      "  0.88558385+0.46659704j  0.88558385-0.46659704j -0.94246386+0.32817607j\n",
      " -0.94246386-0.32817607j  0.88968121+0.46324465j  0.88968121-0.46324465j\n",
      "  0.88222987+0.46758943j  0.88222987-0.46758943j  0.47231199+0.8824808j\n",
      "  0.47231199-0.8824808j  -0.46733545+0.88245964j -0.46733545-0.88245964j\n",
      " -0.45651348+0.89469538j -0.45651348-0.89469538j -0.94729711+0.31842611j\n",
      " -0.94729711-0.31842611j -0.95070096+0.31417379j -0.95070096-0.31417379j\n",
      " -0.95197032+0.30008676j -0.95197032-0.30008676j -0.94518087+0.30617797j\n",
      " -0.94518087-0.30617797j -0.95762726+0.29323859j -0.95762726-0.29323859j\n",
      " -0.97522028+0.26522072j -0.97522028-0.26522072j -0.96518222+0.27775438j\n",
      " -0.96518222-0.27775438j -0.95893752+0.28755867j -0.95893752-0.28755867j\n",
      " -0.46003448+0.88738965j -0.46003448-0.88738965j -1.00437681+0.j\n",
      " -1.00540422+0.04848194j -1.00540422-0.04848194j -1.00325925+0.02405553j\n",
      " -1.00325925-0.02405553j -1.00221894+0.01218442j -1.00221894-0.01218442j\n",
      " -0.99906038+0.03526939j -0.99906038-0.03526939j -0.99729868+0.02320955j\n",
      " -0.99729868-0.02320955j  0.88699222+0.45494526j  0.88699222-0.45494526j\n",
      "  0.89536955+0.44692433j  0.89536955-0.44692433j  0.46840048+0.87571335j\n",
      "  0.46840048-0.87571335j  0.46326374+0.88311188j  0.46326374-0.88311188j\n",
      "  0.45841319+0.89013623j  0.45841319-0.89013623j  0.45205566+0.89369692j\n",
      "  0.45205566-0.89369692j -0.44821966+0.89448284j -0.44821966-0.89448284j\n",
      "  0.43942535+0.9003609j   0.43942535-0.9003609j   0.44448073+0.89557353j\n",
      "  0.44448073-0.89557353j -0.96038105+0.27216006j -0.96038105-0.27216006j\n",
      " -0.96945234+0.2535202j  -0.96945234-0.2535202j  -0.96489557+0.25743941j\n",
      " -0.96489557-0.25743941j -0.99033667+0.j         -0.99839577+0.04288289j\n",
      " -0.99839577-0.04288289j -0.99351216+0.0112861j  -0.99351216-0.0112861j\n",
      " -0.99738518+0.05452532j -0.99738518-0.05452532j -1.00066149+0.07336696j\n",
      " -1.00066149-0.07336696j -0.98066055+0.23072017j -0.98066055-0.23072017j\n",
      " -0.99786505+0.0693327j  -0.99786505-0.0693327j  -0.99592159+0.06496743j\n",
      " -0.99592159-0.06496743j -0.99651966+0.08365818j -0.99651966-0.08365818j\n",
      " -0.99618938+0.10069994j -0.99618938-0.10069994j -0.99449084+0.0903434j\n",
      " -0.99449084-0.0903434j  -0.99609205+0.11503134j -0.99609205-0.11503134j\n",
      " -0.99584402+0.10684156j -0.99584402-0.10684156j  0.89509117+0.44316474j\n",
      "  0.89509117-0.44316474j  0.90145313+0.43302808j  0.90145313-0.43302808j\n",
      "  0.43245028+0.90191216j  0.43245028-0.90191216j -0.44080276+0.89716134j\n",
      " -0.44080276-0.89716134j -0.43626906+0.90016979j -0.43626906-0.90016979j\n",
      " -0.96714013+0.24387786j -0.96714013-0.24387786j -0.972443  +0.2349648j\n",
      " -0.972443  -0.2349648j  -0.99063537+0.18594248j -0.99063537-0.18594248j\n",
      " -0.99090081+0.11719825j -0.99090081-0.11719825j -0.99153397+0.12572712j\n",
      " -0.99153397-0.12572712j -0.97699893+0.21871785j -0.97699893-0.21871785j\n",
      " -0.9899835 +0.13358383j -0.9899835 -0.13358383j -0.99029746+0.14079947j\n",
      " -0.99029746-0.14079947j  0.42580997+0.90415266j  0.42580997-0.90415266j\n",
      " -0.4251299 +0.90336493j -0.4251299 -0.90336493j  0.90188997+0.42909937j\n",
      "  0.90188997-0.42909937j -0.98708769+0.17263818j -0.98708769-0.17263818j\n",
      "  0.90865629+0.42297541j  0.90865629-0.42297541j -0.4203228 +0.90774634j\n",
      " -0.4203228 -0.90774634j  0.41696023+0.91016765j  0.41696023-0.91016765j\n",
      "  0.41065361+0.91243405j  0.41065361-0.91243405j -0.41476211+0.91141609j\n",
      " -0.41476211-0.91141609j  0.89248945+0.42590275j  0.89248945-0.42590275j\n",
      "  0.91102249+0.41420532j  0.91102249-0.41420532j -0.97971634+0.20903697j\n",
      " -0.97971634-0.20903697j -0.98191835+0.17864466j -0.98191835-0.17864466j\n",
      " -0.98869053+0.15329581j -0.98869053-0.15329581j -0.98610622+0.16366914j\n",
      " -0.98610622-0.16366914j -0.97025675+0.21989536j -0.97025675-0.21989536j\n",
      " -0.97968156+0.18892584j -0.97968156-0.18892584j -0.97881842+0.19398902j\n",
      " -0.97881842-0.19398902j -0.4051692 +0.91550718j -0.4051692 -0.91550718j\n",
      "  0.40418177+0.91302835j  0.40418177-0.91302835j  0.9132732 +0.40839466j\n",
      "  0.9132732 -0.40839466j -0.98565235+0.15021228j -0.98565235-0.15021228j\n",
      "  0.91565719+0.40188351j  0.91565719-0.40188351j -0.39178846+0.92558325j\n",
      " -0.39178846-0.92558325j  0.39817717+0.91789652j  0.39817717-0.91789652j\n",
      " -0.35882019+0.94797422j -0.35882019-0.94797422j  0.92844999+0.38381999j\n",
      "  0.92844999-0.38381999j -0.3986524 +0.91563723j -0.3986524 -0.91563723j\n",
      "  0.39011961+0.91972757j  0.39011961-0.91972757j  0.38594048+0.92431974j\n",
      "  0.38594048-0.92431974j -0.36966363+0.93407726j -0.36966363-0.93407726j\n",
      "  0.41196363+0.88850632j  0.41196363-0.88850632j -0.39195339+0.9135947j\n",
      " -0.39195339-0.9135947j  -0.37832632+0.92684761j -0.37832632-0.92684761j\n",
      "  0.37904705+0.92681333j  0.37904705-0.92681333j  0.91869272+0.39354717j\n",
      "  0.91869272-0.39354717j -0.42030199+0.8695593j  -0.42030199-0.8695593j\n",
      " -0.38071692+0.91772937j -0.38071692-0.91772937j  0.92269905+0.38528432j\n",
      "  0.92269905-0.38528432j -0.36659539+0.92775906j -0.36659539-0.92775906j\n",
      " -0.35963681+0.93347824j -0.35963681-0.93347824j  0.36950982+0.9270599j\n",
      "  0.36950982-0.9270599j   0.35254465+0.93960775j  0.35254465-0.93960775j\n",
      "  0.36385583+0.93105758j  0.36385583-0.93105758j  0.36008159+0.93302541j\n",
      "  0.36008159-0.93302541j  0.93412125+0.36774969j  0.93412125-0.36774969j\n",
      "  0.93990471+0.35858675j  0.93990471-0.35858675j  0.92780059+0.37211143j\n",
      "  0.92780059-0.37211143j -0.35045682+0.9356889j  -0.35045682-0.9356889j\n",
      "  0.91532258+0.37476857j  0.91532258-0.37476857j -0.97074361+0.20765269j\n",
      " -0.97074361-0.20765269j -0.34036145+0.94237843j -0.34036145-0.94237843j\n",
      "  0.94121931+0.34561634j  0.94121931-0.34561634j  0.33905684+0.9418417j\n",
      "  0.33905684-0.9418417j   0.34433689+0.93402762j  0.34433689-0.93402762j\n",
      "  0.33234304+0.94510702j  0.33234304-0.94510702j -0.33613575+0.9387055j\n",
      " -0.33613575-0.9387055j  -0.3281253 +0.94571319j -0.3281253 -0.94571319j\n",
      " -0.32065013+0.9446984j  -0.32065013-0.9446984j  -0.31413104+0.95031976j\n",
      " -0.31413104-0.95031976j -0.29084529+0.96610021j -0.29084529-0.96610021j\n",
      " -0.30437606+0.95460182j -0.30437606-0.95460182j  0.32582616+0.94472931j\n",
      "  0.32582616-0.94472931j  0.31716139+0.9496385j   0.31716139-0.9496385j\n",
      "  0.30798008+0.95294769j  0.30798008-0.95294769j  0.30537381+0.95352365j\n",
      "  0.30537381-0.95352365j  0.92386374+0.35077877j  0.92386374-0.35077877j\n",
      "  0.93117904+0.34779111j  0.93117904-0.34779111j  0.93586235+0.34456437j\n",
      "  0.93586235-0.34456437j  0.94577704+0.32865844j  0.94577704-0.32865844j\n",
      "  0.93725403+0.32984446j  0.93725403-0.32984446j  0.94812446+0.31810369j\n",
      "  0.94812446-0.31810369j  0.95856649+0.29793482j  0.95856649-0.29793482j\n",
      "  0.94446443+0.31706657j  0.94446443-0.31706657j  0.94989644+0.30666901j\n",
      "  0.94989644-0.30666901j -0.9429828 +0.2569176j  -0.9429828 -0.2569176j\n",
      "  0.28873005+0.96555678j  0.28873005-0.96555678j -0.28041165+0.95882961j\n",
      " -0.28041165-0.95882961j -0.29963236+0.95509517j -0.29963236-0.95509517j\n",
      " -0.31466047+0.931492j   -0.31466047-0.931492j    0.95190648+0.30424225j\n",
      "  0.95190648-0.30424225j -0.28884795+0.95521891j -0.28884795-0.95521891j\n",
      " -0.27452271+0.9645178j  -0.27452271-0.9645178j   0.32509816+0.9247337j\n",
      "  0.32509816-0.9247337j   0.29605049+0.95536857j  0.29605049-0.95536857j\n",
      "  0.27376317+0.96668984j  0.27376317-0.96668984j  0.27766427+0.96222631j\n",
      "  0.27766427-0.96222631j  0.95605706+0.29300767j  0.95605706-0.29300767j\n",
      "  0.98060059+0.25174593j  0.98060059-0.25174593j  0.96624939+0.2758161j\n",
      "  0.96624939-0.2758161j   0.95988975+0.28149572j  0.95988975-0.28149572j\n",
      "  0.28911587+0.95122996j  0.28911587-0.95122996j  0.26344988+0.9660556j\n",
      "  0.26344988-0.9660556j   0.97523603+0.2519361j   0.97523603-0.2519361j\n",
      "  0.96293641+0.2684444j   0.96293641-0.2684444j  -0.88574087+0.33222055j\n",
      " -0.88574087-0.33222055j  0.27334883+0.95432939j  0.27334883-0.95432939j\n",
      "  0.96443774+0.25764082j  0.96443774-0.25764082j  0.95526975+0.27364455j\n",
      "  0.95526975-0.27364455j -0.26793511+0.96060191j -0.26793511-0.96060191j\n",
      " -0.26098008+0.96712354j -0.26098008-0.96712354j -0.25449536+0.96734363j\n",
      " -0.25449536-0.96734363j -0.25027884+0.96293636j -0.25027884-0.96293636j\n",
      " -0.20450184+0.9875166j  -0.20450184-0.9875166j  -0.2414712 +0.97008477j\n",
      " -0.2414712 -0.97008477j  0.25531828+0.96596786j  0.25531828-0.96596786j\n",
      "  0.23238136+0.98011872j  0.23238136-0.98011872j  0.24155343+0.97049352j\n",
      "  0.24155343-0.97049352j  0.24678996+0.96621103j  0.24678996-0.96621103j\n",
      " -0.23408724+0.97389921j -0.23408724-0.97389921j  0.23268843+0.97293332j\n",
      "  0.23268843-0.97293332j  0.96829738+0.24566462j  0.96829738-0.24566462j\n",
      "  0.22417081+0.97717689j  0.22417081-0.97717689j  0.97232636+0.23694941j\n",
      "  0.97232636-0.23694941j  0.97821531+0.22071469j  0.97821531-0.22071469j\n",
      "  0.97339442+0.22759093j  0.97339442-0.22759093j  0.96985009+0.2301717j\n",
      "  0.96985009-0.2301717j   0.9795363 +0.21227382j  0.9795363 -0.21227382j\n",
      "  0.21958303+0.97490841j  0.21958303-0.97490841j -0.12285722+1.02194095j\n",
      " -0.12285722-1.02194095j -0.21250717+0.97663918j -0.21250717-0.97663918j\n",
      " -0.21970493+0.97364861j -0.21970493-0.97364861j -0.23308744+0.96414754j\n",
      " -0.23308744-0.96414754j  0.9798575 +0.20632071j  0.9798575 -0.20632071j\n",
      "  0.20612407+0.97939458j  0.20612407-0.97939458j -0.22247321+0.969643j\n",
      " -0.22247321-0.969643j   -0.20099143+0.9763223j  -0.20099143-0.9763223j\n",
      " -0.19340862+0.98211328j -0.19340862-0.98211328j -0.18375028+0.98453773j\n",
      " -0.18375028-0.98453773j -0.17001513+0.98888009j -0.17001513-0.98888009j\n",
      " -0.18429826+0.97895012j -0.18429826-0.97895012j -0.17314877+0.98356151j\n",
      " -0.17314877-0.98356151j  0.19587327+0.98262205j  0.19587327-0.98262205j\n",
      "  0.20771783+0.97207288j  0.20771783-0.97207288j  0.97569098+0.20109237j\n",
      "  0.97569098-0.20109237j  0.9799539 +0.19418589j  0.9799539 -0.19418589j\n",
      "  0.98276691+0.18706266j  0.98276691-0.18706266j  0.98374773+0.18167968j\n",
      "  0.98374773-0.18167968j  0.18417965+0.98467253j  0.18417965-0.98467253j\n",
      "  0.18773998+0.9815951j   0.18773998-0.9815951j   0.98450345+0.1743707j\n",
      "  0.98450345-0.1743707j   0.17674036+0.98430695j  0.17674036-0.98430695j\n",
      "  0.98639551+0.16619626j  0.98639551-0.16619626j  0.16640739+0.98429248j\n",
      "  0.16640739-0.98429248j  0.16349653+0.98532752j  0.16349653-0.98532752j\n",
      "  0.15559143+0.98909133j  0.15559143-0.98909133j  0.98967654+0.15558149j\n",
      "  0.98967654-0.15558149j  0.98802175+0.15916691j  0.98802175-0.15916691j\n",
      " -0.15856153+0.98537089j -0.15856153-0.98537089j -0.15627222+0.98694181j\n",
      " -0.15627222-0.98694181j  0.99182837+0.13781621j  0.99182837-0.13781621j\n",
      "  0.98871078+0.14359559j  0.98871078-0.14359559j -0.14223764+0.99430682j\n",
      " -0.14223764-0.99430682j -0.14644096+0.98740971j -0.14644096-0.98740971j\n",
      "  0.20498939+0.95764718j  0.20498939-0.95764718j  0.14601922+0.99059433j\n",
      "  0.14601922-0.99059433j  0.09727076+1.00207567j  0.09727076-1.00207567j\n",
      "  0.13531927+0.99121255j  0.13531927-0.99121255j  0.09158358+0.99593984j\n",
      "  0.09158358-0.99593984j  0.08195029+0.99684713j  0.08195029-0.99684713j\n",
      "  0.0764825 +0.9973854j   0.0764825 -0.9973854j   0.12548115+0.99340505j\n",
      "  0.12548115-0.99340505j  0.99076915+0.13115292j  0.99076915-0.13115292j\n",
      " -0.12608941+0.99391315j -0.12608941-0.99391315j -0.1142401 +0.99391891j\n",
      " -0.1142401 -0.99391891j  0.13763249+0.98640963j  0.13763249-0.98640963j\n",
      "  0.09893354+0.99481631j  0.09893354-0.99481631j  0.1133446 +0.993479j\n",
      "  0.1133446 -0.993479j   -0.07945546+1.00546117j -0.07945546-1.00546117j\n",
      " -0.10583563+0.99431529j -0.10583563-0.99431529j  0.06731967+0.99795948j\n",
      "  0.06731967-0.99795948j  0.12191498+0.99097712j  0.12191498-0.99097712j\n",
      "  0.06190092+0.99838205j  0.06190092-0.99838205j -0.09144091+0.99665307j\n",
      " -0.09144091-0.99665307j -0.07564024+1.00083048j -0.07564024-1.00083048j\n",
      " -0.09719565+0.99452611j -0.09719565-0.99452611j  0.05415297+0.99843575j\n",
      "  0.05415297-0.99843575j  0.04559456+1.00335655j  0.04559456-1.00335655j\n",
      "  0.10496301+0.99401321j  0.10496301-0.99401321j -0.06055328+1.00157641j\n",
      " -0.06055328-1.00157641j -0.04962748+1.00312648j -0.04962748-1.00312648j\n",
      " -0.0378359 +1.00111742j -0.0378359 -1.00111742j -0.01827805+1.00054317j\n",
      " -0.01827805-1.00054317j -0.01015552+0.99984469j -0.01015552-0.99984469j\n",
      " -0.02912809+1.00043457j -0.02912809-1.00043457j -0.02595224+0.99866119j\n",
      " -0.02595224-0.99866119j -0.00343165+1.00095239j -0.00343165-1.00095239j\n",
      " -0.06512624+0.99832311j -0.06512624-0.99832311j  0.04453889+0.9982546j\n",
      "  0.04453889-0.9982546j  -0.13319108+0.98757941j -0.13319108-0.98757941j\n",
      " -0.12378061+0.98924875j -0.12378061-0.98924875j  0.98556764+0.15237495j\n",
      "  0.98556764-0.15237495j  0.99074013+0.12328882j  0.99074013-0.12328882j\n",
      "  0.99563195+0.10616791j  0.99563195-0.10616791j  0.99712483+0.07505168j\n",
      "  0.99712483-0.07505168j  0.99729737+0.06991239j  0.99729737-0.06991239j\n",
      "  0.99850235+0.06197702j  0.99850235-0.06197702j  0.99775412+0.08681055j\n",
      "  0.99775412-0.08681055j  0.03521621+1.00007091j  0.03521621-1.00007091j\n",
      "  0.00598303+1.00133j     0.00598303-1.00133j    -0.04528868+0.99744274j\n",
      " -0.04528868-0.99744274j  0.99828176+0.05681055j  0.99828176-0.05681055j\n",
      "  0.99569767+0.08253342j  0.99569767-0.08253342j  0.02359816+1.00046396j\n",
      "  0.02359816-1.00046396j -0.08304921+0.99233319j -0.08304921-0.99233319j\n",
      "  0.01459079+0.99876765j  0.01459079-0.99876765j  0.02977811+0.99825728j\n",
      "  0.02977811-0.99825728j  0.00685457+0.99844031j  0.00685457-0.99844031j\n",
      "  0.99124924+0.11771001j  0.99124924-0.11771001j  0.99180554+0.11270233j\n",
      "  0.99180554-0.11270233j  1.00016946+0.02501771j  1.00016946-0.02501771j\n",
      "  0.99976381+0.01885074j  0.99976381-0.01885074j  0.99998415+0.0062463j\n",
      "  0.99998415-0.0062463j   0.99847121+0.05029861j  0.99847121-0.05029861j\n",
      "  0.99963453+0.01258604j  0.99963453-0.01258604j  0.99557622+0.09534896j\n",
      "  0.99557622-0.09534896j  0.99867346+0.04406484j  0.99867346-0.04406484j\n",
      "  0.99902753+0.03265052j  0.99902753-0.03265052j  0.9928046 +0.09677773j\n",
      "  0.9928046 -0.09677773j  0.99833506+0.03681103j  0.99833506-0.03681103j\n",
      " -0.97687814+0.08428159j -0.97687814-0.08428159j -0.0569466 +0.98828378j\n",
      " -0.0569466 -0.98828378j  0.13241691+0.97511178j  0.13241691-0.97511178j\n",
      " -0.96529557+0.15159499j -0.96529557-0.15159499j -0.43480259+0.74690972j\n",
      " -0.43480259-0.74690972j -0.7133571 +0.j         -0.37919426+0.j        ]\n"
     ]
    }
   ],
   "source": [
    "# Your code goes here.\n",
    "\n",
    "coefficients1 = [1,-2,1]\n",
    "\n",
    "print(np.roots(coefficients1))\n",
    "\n",
    "coefficients2 = np.random.rand(1000)\n",
    "print(coefficients2)\n",
    "\n",
    "print(np.roots(coefficients2))"
   ]
  },
  {
   "cell_type": "markdown",
   "id": "ffdd2f41-7497-4cc5-a177-3b7ac9ec1816",
   "metadata": {},
   "source": [
    "<h2> Solvings ODEs with Scipy</h2>\n",
    "\n",
    "Ordinary differential equations (ODEs) can be used to model a huge range of physical systems-from predicting the trajectory of a rocket, to understanding the factors that affect population growth. The general approach used is to first write down a set of equations,  describing how quantities in the system change. For example, we might represent the population on the planet earth with a variable N. If over some duration of time (say 1 month), we expect some fraction of people to die (say $\\alpha$), then we can write the equation:\n",
    "\n",
    "$$dN/dt = -\\alpha N$$\n",
    "\n",
    "We can then predict how the population will change over time (for a particular death rate) by solving the equation. If we wanted to improve the model, by say, considering births as well, then we can introduce a second term to represent this-for example, we could assume that some proportion of the population ($\\beta$) gives birth. This would lead to a new equation:\n",
    "\n",
    "$$dN/dt = -\\alpha N + \\beta N$$\n",
    "\n",
    "In your other courses, you have seen a number of techniques for solving ODEs. Here, we will look at how we can use Python to numerically integrate an equation like this. We won't go too much into the details of how this happens-you'll see a lot more on this in later courses. Our focus is on being able to write the code we need to solve ODE models.\n",
    "\n",
    "<h3> Numerical integration with Scipy </h3>\n",
    "\n",
    "To perform numerical integration with Python, we'll need to use a library which contains the necessary functionality- in this case, we'll use Scipy's odeint functionality. If you don't have this installed, you will need to install it (for example, by running in a terminal ```pip3 install scipy```).\n",
    "\n",
    "To integrate an ODE with Scipy, we'll use the <a href=https://docs.scipy.org/doc/scipy-1.15.0/reference/generated/scipy.integrate.odeint.html>odeint</a> function.\n",
    "\n",
    "Let's take a quick look at the documentation for this function:\n",
    "\n",
    "<img src=\"https://github.com/engmaths/SEMT10002_2024/blob/main/img/odeint1.png?raw=true\" width=\"60%\">\n",
    "\n",
    "\n",
    "Here, we can see that odeint is a function with 3 required arguments (func, y0, t) and 19(!!) optional arguments. We can also see that ths function will *Integrate a system of ordinary differential equations* by solving the initial value problem for  systems of first order ode-s:\n",
    "\n",
    "$dy/dt = func(y, t, args) $ \n",
    "\n",
    "where y can be a vector. Fortunately, all of the optional arguments have default values, so we can assume (for now) that these are reasonable and just focus on understanding the three things that we need to provide. Scrolling down the documentation page, we get further information on what we need to provide for the function to work:\n",
    "\n",
    "<img src=\"https://github.com/engmaths/SEMT10002_2024/blob/main/img/odeint2.png?raw=true\" width=\"60%\">\n",
    "\n",
    "This tells us that the first argument (*func*) needs to be a callable (i.e. a function) that calculates the derivative of y at time t. The second argument y0 is an array that defines the initial condition and  the third argument t0 is an array that defines the time points for which to solve y for. It also tells us that the odeint function will return an array y (with shape len(t), len(y0). This array will contain the value of y for each desired time in t, with the initial value y0 in the first row.\n",
    "\n",
    "The code below shows how we can use odeint to integrate our model of population growth."
   ]
  },
  {
   "cell_type": "code",
   "execution_count": 44,
   "id": "1bfebbf2-cb12-46ef-934f-a5a0bdce853a",
   "metadata": {},
   "outputs": [
    {
     "name": "stdout",
     "output_type": "stream",
     "text": [
      "T is :\n",
      "\n",
      "[  0.           2.04081633   4.08163265   6.12244898   8.16326531\n",
      "  10.20408163  12.24489796  14.28571429  16.32653061  18.36734694\n",
      "  20.40816327  22.44897959  24.48979592  26.53061224  28.57142857\n",
      "  30.6122449   32.65306122  34.69387755  36.73469388  38.7755102\n",
      "  40.81632653  42.85714286  44.89795918  46.93877551  48.97959184\n",
      "  51.02040816  53.06122449  55.10204082  57.14285714  59.18367347\n",
      "  61.2244898   63.26530612  65.30612245  67.34693878  69.3877551\n",
      "  71.42857143  73.46938776  75.51020408  77.55102041  79.59183673\n",
      "  81.63265306  83.67346939  85.71428571  87.75510204  89.79591837\n",
      "  91.83673469  93.87755102  95.91836735  97.95918367 100.        ]\n",
      "T is :\n",
      "\n",
      "[  0.           2.04081633   4.08163265   6.12244898   8.16326531\n",
      "  10.20408163  12.24489796  14.28571429  16.32653061  18.36734694\n",
      "  20.40816327  22.44897959  24.48979592  26.53061224  28.57142857\n",
      "  30.6122449   32.65306122  34.69387755  36.73469388  38.7755102\n",
      "  40.81632653  42.85714286  44.89795918  46.93877551  48.97959184\n",
      "  51.02040816  53.06122449  55.10204082  57.14285714  59.18367347\n",
      "  61.2244898   63.26530612  65.30612245  67.34693878  69.3877551\n",
      "  71.42857143  73.46938776  75.51020408  77.55102041  79.59183673\n",
      "  81.63265306  83.67346939  85.71428571  87.75510204  89.79591837\n",
      "  91.83673469  93.87755102  95.91836735  97.95918367 100.        ]\n",
      "T is :\n",
      "\n",
      "[  0.           2.04081633   4.08163265   6.12244898   8.16326531\n",
      "  10.20408163  12.24489796  14.28571429  16.32653061  18.36734694\n",
      "  20.40816327  22.44897959  24.48979592  26.53061224  28.57142857\n",
      "  30.6122449   32.65306122  34.69387755  36.73469388  38.7755102\n",
      "  40.81632653  42.85714286  44.89795918  46.93877551  48.97959184\n",
      "  51.02040816  53.06122449  55.10204082  57.14285714  59.18367347\n",
      "  61.2244898   63.26530612  65.30612245  67.34693878  69.3877551\n",
      "  71.42857143  73.46938776  75.51020408  77.55102041  79.59183673\n",
      "  81.63265306  83.67346939  85.71428571  87.75510204  89.79591837\n",
      "  91.83673469  93.87755102  95.91836735  97.95918367 100.        ]\n",
      "T is :\n",
      "\n",
      "[  0.           2.04081633   4.08163265   6.12244898   8.16326531\n",
      "  10.20408163  12.24489796  14.28571429  16.32653061  18.36734694\n",
      "  20.40816327  22.44897959  24.48979592  26.53061224  28.57142857\n",
      "  30.6122449   32.65306122  34.69387755  36.73469388  38.7755102\n",
      "  40.81632653  42.85714286  44.89795918  46.93877551  48.97959184\n",
      "  51.02040816  53.06122449  55.10204082  57.14285714  59.18367347\n",
      "  61.2244898   63.26530612  65.30612245  67.34693878  69.3877551\n",
      "  71.42857143  73.46938776  75.51020408  77.55102041  79.59183673\n",
      "  81.63265306  83.67346939  85.71428571  87.75510204  89.79591837\n",
      "  91.83673469  93.87755102  95.91836735  97.95918367 100.        ]\n",
      "T is :\n",
      "\n",
      "[  0.           2.04081633   4.08163265   6.12244898   8.16326531\n",
      "  10.20408163  12.24489796  14.28571429  16.32653061  18.36734694\n",
      "  20.40816327  22.44897959  24.48979592  26.53061224  28.57142857\n",
      "  30.6122449   32.65306122  34.69387755  36.73469388  38.7755102\n",
      "  40.81632653  42.85714286  44.89795918  46.93877551  48.97959184\n",
      "  51.02040816  53.06122449  55.10204082  57.14285714  59.18367347\n",
      "  61.2244898   63.26530612  65.30612245  67.34693878  69.3877551\n",
      "  71.42857143  73.46938776  75.51020408  77.55102041  79.59183673\n",
      "  81.63265306  83.67346939  85.71428571  87.75510204  89.79591837\n",
      "  91.83673469  93.87755102  95.91836735  97.95918367 100.        ]\n",
      "T is :\n",
      "\n",
      "[  0.           2.04081633   4.08163265   6.12244898   8.16326531\n",
      "  10.20408163  12.24489796  14.28571429  16.32653061  18.36734694\n",
      "  20.40816327  22.44897959  24.48979592  26.53061224  28.57142857\n",
      "  30.6122449   32.65306122  34.69387755  36.73469388  38.7755102\n",
      "  40.81632653  42.85714286  44.89795918  46.93877551  48.97959184\n",
      "  51.02040816  53.06122449  55.10204082  57.14285714  59.18367347\n",
      "  61.2244898   63.26530612  65.30612245  67.34693878  69.3877551\n",
      "  71.42857143  73.46938776  75.51020408  77.55102041  79.59183673\n",
      "  81.63265306  83.67346939  85.71428571  87.75510204  89.79591837\n",
      "  91.83673469  93.87755102  95.91836735  97.95918367 100.        ]\n",
      "T is :\n",
      "\n",
      "[  0.           2.04081633   4.08163265   6.12244898   8.16326531\n",
      "  10.20408163  12.24489796  14.28571429  16.32653061  18.36734694\n",
      "  20.40816327  22.44897959  24.48979592  26.53061224  28.57142857\n",
      "  30.6122449   32.65306122  34.69387755  36.73469388  38.7755102\n",
      "  40.81632653  42.85714286  44.89795918  46.93877551  48.97959184\n",
      "  51.02040816  53.06122449  55.10204082  57.14285714  59.18367347\n",
      "  61.2244898   63.26530612  65.30612245  67.34693878  69.3877551\n",
      "  71.42857143  73.46938776  75.51020408  77.55102041  79.59183673\n",
      "  81.63265306  83.67346939  85.71428571  87.75510204  89.79591837\n",
      "  91.83673469  93.87755102  95.91836735  97.95918367 100.        ]\n",
      "T is :\n",
      "\n",
      "[  0.           2.04081633   4.08163265   6.12244898   8.16326531\n",
      "  10.20408163  12.24489796  14.28571429  16.32653061  18.36734694\n",
      "  20.40816327  22.44897959  24.48979592  26.53061224  28.57142857\n",
      "  30.6122449   32.65306122  34.69387755  36.73469388  38.7755102\n",
      "  40.81632653  42.85714286  44.89795918  46.93877551  48.97959184\n",
      "  51.02040816  53.06122449  55.10204082  57.14285714  59.18367347\n",
      "  61.2244898   63.26530612  65.30612245  67.34693878  69.3877551\n",
      "  71.42857143  73.46938776  75.51020408  77.55102041  79.59183673\n",
      "  81.63265306  83.67346939  85.71428571  87.75510204  89.79591837\n",
      "  91.83673469  93.87755102  95.91836735  97.95918367 100.        ]\n",
      "T is :\n",
      "\n",
      "[  0.           2.04081633   4.08163265   6.12244898   8.16326531\n",
      "  10.20408163  12.24489796  14.28571429  16.32653061  18.36734694\n",
      "  20.40816327  22.44897959  24.48979592  26.53061224  28.57142857\n",
      "  30.6122449   32.65306122  34.69387755  36.73469388  38.7755102\n",
      "  40.81632653  42.85714286  44.89795918  46.93877551  48.97959184\n",
      "  51.02040816  53.06122449  55.10204082  57.14285714  59.18367347\n",
      "  61.2244898   63.26530612  65.30612245  67.34693878  69.3877551\n",
      "  71.42857143  73.46938776  75.51020408  77.55102041  79.59183673\n",
      "  81.63265306  83.67346939  85.71428571  87.75510204  89.79591837\n",
      "  91.83673469  93.87755102  95.91836735  97.95918367 100.        ]\n"
     ]
    },
    {
     "data": {
      "image/png": "[encoded data removed]",
      "text/plain": [
       "<Figure size 640x480 with 1 Axes>"
      ]
     },
     "metadata": {},
     "output_type": "display_data"
    }
   ],
   "source": [
    "import numpy as np \n",
    "from scipy.integrate import odeint \n",
    "import matplotlib.pyplot as plt \n",
    "\n",
    "#This function defines the right hand side of the equation we want to integrate\n",
    "def gradient(N, t, alpha, beta):\n",
    "\treturn -alpha*N + beta*N \n",
    "\n",
    "#Lets start with an initial population of 100 people\n",
    "N0 = 100\n",
    "#We also need some values for our parameters\n",
    "\n",
    "for a in [0.05, 0.1, 0.125]:\n",
    "\tfor b in [0.05, 0.1, 0.125]:\n",
    "\t\t#We need to tell scipy which timesteps to use for the integration- linspace will give us evenly spaced points\n",
    "\t\tt = np.linspace(0, 100)\n",
    "\t\tprint(\"T is :\\n\")\n",
    "\t\tprint(t)\n",
    "\t\tN = odeint(gradient, N0, t, (a, b))\n",
    "\t\tplt.plot(t, N, label=f\"{a}, {b}\")\n",
    "\n",
    "plt.legend()\n",
    "plt.show()"
   ]
  },
  {
   "cell_type": "markdown",
   "id": "50b17b8b-e59c-4896-8403-1f37d74db937",
   "metadata": {},
   "source": [
    "This code begins by importing some libraries that we will need. We then define a function for calculating the gradient of our system. This function must always have two arguments- the first represents the current state of the system (and can be a number, or a numpy array), the second represents the current timestep. The gradient may also have some optional parameters- here we use this to pass the values of $\\alpha$ and $\\beta$. \n",
    "\n",
    "We then create some variables to represent our initial population (N0) and paramaters ($\\alpha$ and $\\beta$). We create a sequence of time points for the integration with the line ```t = np.linspace(0, 100)```. Then we perform the integration with odeint- here we must provide the gradient function as the first argument, the initial condition as the second argument and then any paramaters as a tuple. Finally, we plot the result. \n",
    "\n",
    "Here, as the death rate ($\\alpha$ = 0.1) is bigger than the death rate ($\\beta = 0.05$), the population dies out.\n",
    "\n",
    "**Exercise**: Modify the code above to repeat the integration with 3 different values of $\\alpha$ and 3 different values of $\\beta$ (i.e 9 times in total). Plot the results on a single figure, with 9 axes. Label each axes with the values of $\\alpha$ and $\\beta$. Hint: If you can't remember how to do this, review the matplotlib worksheet.\n"
   ]
  },
  {
   "cell_type": "markdown",
   "id": "77bacace-e96f-43fb-b8c7-caaf12df3eb0",
   "metadata": {},
   "source": [
    "<h3> Understanding epidemics with the SIR model </h3>\n",
    "\n",
    "A simple model for understanding the spread (or not) of a disease through the population is the (S)usceptible, (I)nfected, (R)emoved model. Here, the population is divided into three categories- those who have not yet had the disease are susceptible. Those who have it are infected, and those who have recovered (or died) are removed. The equations describing the model are as follows, with N the size of the population:\n",
    "\n",
    "$$dS/dT = (-\\beta * S * I) / N$$\n",
    "$$dI/dT = (\\beta * S * I) / N - \\gamma * I$$\n",
    "$$dR/dT = \\gamma * I$$\n",
    "\n",
    "\n",
    "Essentially, this assumes that some fraction of the susceptible people will interact with the infected, catching the disease proportional to the parameter $\\beta$. These people become infected, and so are subtracted from the count of susceptible people. As these are now infected, we need to also add the same amount of the number of infected. At the same time, some proportion of the infected people ($\\gamma$) recover. We need to subtract this number from I, and add it to R. \n",
    "\n",
    "We can solve this system in Python with the following code:"
   ]
  },
  {
   "cell_type": "code",
   "execution_count": 45,
   "id": "edbc6ebe-b358-4073-b5e8-9fa625ce0708",
   "metadata": {},
   "outputs": [
    {
     "data": {
      "image/png": "[encoded data removed]",
      "text/plain": [
       "<Figure size 640x480 with 3 Axes>"
      ]
     },
     "metadata": {},
     "output_type": "display_data"
    }
   ],
   "source": [
    "import matplotlib.pyplot as plt \n",
    "from scipy.integrate import odeint \n",
    "import numpy as np \n",
    "\n",
    "#Let's use a population of 1000 people\n",
    "N = 1000 \n",
    "#S represents the number of susceptible people; we'll start our model with one infected, with means S=N-1\n",
    "S = N-1 \n",
    "#I represents the number of infected people; we'll leave start this at one.\n",
    "I = 1 \n",
    "#R represents the number of people removed (either due to recovery or death). We start this at zero.\n",
    "R = 0 \n",
    "\n",
    "def diff_sir(sir, t, beta, gamma):\n",
    "\n",
    "\t'''\n",
    "\tCalculates the gradient for an SIR model of disease spread\n",
    "\tInputs:\n",
    "\t\tsir: state of the system, with sir[0] = number susceptible\n",
    "\t\t\t\t\t\t\t\t\t   sir[1] = number infected\n",
    "\t\t\t\t\t\t\t\t\t   sir[2] = number recovered\n",
    "\t\tt: current time- not used here, but odeint expects to pass this argument so we must include it\n",
    "\t\tbeta: the rate at which the virus spreads\n",
    "\t\tgamma: the rate at which people are removed due to the virus\n",
    "\tOutputs:\n",
    "\t\tthe gradient of the SIR model\n",
    "\t'''\n",
    "\n",
    "\tdsdt = (-beta*sir[0] * sir[1])/N \n",
    "\tdidt = (beta*sir[0]*sir[1])/N - (gamma * sir[1])\n",
    "\tdrdt = gamma * sir[1]\n",
    "\n",
    "\tgrad = [dsdt, didt, drdt]\n",
    "\n",
    "\treturn grad \n",
    "\n",
    "def solve_sir(sir0, t_max, beta, gamma):\n",
    "\t'''\n",
    "\tSolves an SIR model using odeint.\n",
    "\t'''\n",
    "\n",
    "\tt = np.linspace(0, t_max)\n",
    "\tsir = odeint(diff_sir, sir0, t, (beta, gamma))\n",
    "\n",
    "\treturn sir, t \n",
    "\n",
    "def plot_sir(t, data):\n",
    "\n",
    "\tfig = plt.figure()\n",
    "\tax1 = fig.add_subplot(311)\n",
    "\tax1.plot(t, data[:, 0], label='S(t)')\n",
    "\tax2 = fig.add_subplot(312)\n",
    "\tax2.plot(t, data[:, 1], label='I(t)')\n",
    "\tax3 = fig.add_subplot(313)\n",
    "\tax3.plot(t, data[:, 2], label='R(t)')\n",
    "\tplt.tight_layout()\n",
    "\n",
    "def main():\n",
    "\n",
    "\t#Set values for model parameters here.\n",
    "\tbeta = 0.4\n",
    "\tgamma = 0.2 \n",
    "\t#Let's solve for 100 time steps\n",
    "\tt_max = 100 \n",
    "\t#Create a tuple to represent the initial conditions\n",
    "\tsir0 = (S, I, R)\n",
    "\t#Solve the model\n",
    "\tsir, t = solve_sir(sir0, t_max, beta, gamma)\n",
    "\t#Plot the results\n",
    "\tplot_sir(t, sir)\n",
    "\n",
    "main()"
   ]
  },
  {
   "cell_type": "markdown",
   "id": "8c596584-3fda-4276-9250-280adf1c1a7a",
   "metadata": {},
   "source": [
    "**Task 3**:A variation on the SIR  model is the SIS model, in which those who recover from the disease can become re-infected again. The equations for describing this system are:\n",
    "\n",
    "$$dS/dT = (-\\beta * S * I) / N + \\gamma * I$$\n",
    "$$dI/dT = (\\beta * S * I) / N - \\gamma * I$$\n",
    "\n",
    "Extend the code above to also solve this system. You'll need to define a new function for calculating the gradient (i.e \"diff_SIS\") and another function to solving the ODE (i.e \"solve_SIS\"). Plot the results of both models on a single figure."
   ]
  },
  {
   "cell_type": "code",
   "execution_count": 50,
   "id": "575e3a3c",
   "metadata": {},
   "outputs": [
    {
     "data": {
      "image/png": "[encoded data removed]",
      "text/plain": [
       "<Figure size 640x480 with 2 Axes>"
      ]
     },
     "metadata": {},
     "output_type": "display_data"
    }
   ],
   "source": [
    "import matplotlib.pyplot as plt \n",
    "from scipy.integrate import odeint \n",
    "import numpy as np \n",
    "\n",
    "#Let's use a population of 1000 people\n",
    "N = 1000 \n",
    "#S represents the number of susceptible people; we'll start our model with one infected, with means S=N-1\n",
    "S = N-1 \n",
    "#I represents the number of infected people; we'll leave start this at one.\n",
    "I = 1 \n",
    "\n",
    "def diff_sis(sis, t, beta, gamma):\n",
    "\n",
    "\t'''\n",
    "\tCalculates the gradient for an SIR model of disease spread\n",
    "\tInputs:\n",
    "\t\tsir: state of the system, with sir[0] = number susceptible\n",
    "\t\t\t\t\t\t\t\t\t   sir[1] = number infected\n",
    "\t\t\t\t\t\t\t\t\t   sir[2] = number recovered\n",
    "\t\tt: current time- not used here, but odeint expects to pass this argument so we must include it\n",
    "\t\tbeta: the rate at which the virus spreads\n",
    "\t\tgamma: the rate at which people are removed due to the virus\n",
    "\tOutputs:\n",
    "\t\tthe gradient of the SIR model\n",
    "\t'''\n",
    "\n",
    "\tdsdt = (-beta*sis[0] * sis[1])/N + gamma * sis[1]\n",
    "\tdidt = (beta*sis[0]*sis[1])/N - (gamma * sis[1])\n",
    "\n",
    "\tgrad = [dsdt, didt]\n",
    "\n",
    "\treturn grad \n",
    "\n",
    "def solve_sis(sis0, t_max, beta, gamma):\n",
    "\t'''\n",
    "\tSolves an SIR model using odeint.\n",
    "\t'''\n",
    "\n",
    "\tt = np.linspace(0, t_max)\n",
    "\tsir = odeint(diff_sis, sis0, t, (beta, gamma))\n",
    "\n",
    "\treturn sir, t \n",
    "\n",
    "def plot_sis(t, data):\n",
    "\n",
    "\tfig = plt.figure()\n",
    "\tax1 = fig.add_subplot(311)\n",
    "\tax1.plot(t, data[:, 0], label='S(t)')\n",
    "\tax2 = fig.add_subplot(312)\n",
    "\tax2.plot(t, data[:, 1], label='I(t)')\n",
    "\tplt.tight_layout()\n",
    "\n",
    "def main():\n",
    "\n",
    "\t#Set values for model parameters here.\n",
    "\tbeta = 0.4\n",
    "\tgamma = 0.2 \n",
    "\t#Let's solve for 100 time steps\n",
    "\tt_max = 100 \n",
    "\t#Create a tuple to represent the initial conditions\n",
    "\tsis0 = (S, I)\n",
    "\t#Solve the model\n",
    "\tsir, t = solve_sis(sis0, t_max, beta, gamma)\n",
    "\t#Plot the results\n",
    "\tplot_sis(t, sir)\n",
    "\n",
    "main()"
   ]
  },
  {
   "cell_type": "markdown",
   "id": "b91dea4f-5036-424c-b0a4-78784c943d22",
   "metadata": {},
   "source": [
    "<h3> Lotka-Volterra model</h3>\n",
    "\n",
    "The Lotka-Volterra equations can be used to describe the population of a predator-prey system. If we use x to represent the population density of the prey animal, and y to represent the population density of the predator, then the equations describing the model are:\n",
    "\n",
    "$$dx/dt = \\alpha x - \\beta xy$$\n",
    "$$dy/dt = \\delta xy - \\gamma y$$\n",
    "\n",
    "where $\\alpha$ describes the birth rate of the prety, $\\beta$ the effect of the predator on the preys growth rate, $\\delta$ the predator's death rate, and $\\gamma$ the effect of the prey on the predators growth rate. \n",
    "\n",
    "<h3> Exercise 4</h3>\n",
    "\n",
    "Write a program to solve the Lotka-Volterra system. When run from the terminal, your code should use sensible default values to solve the equation, producing a plot to show the output."
   ]
  },
  {
   "cell_type": "code",
   "execution_count": 58,
   "id": "cbfd0356-8629-43ce-8619-fe239175d09b",
   "metadata": {},
   "outputs": [
    {
     "data": {
      "image/png": "[encoded data removed]",
      "text/plain": [
       "<Figure size 640x480 with 1 Axes>"
      ]
     },
     "metadata": {},
     "output_type": "display_data"
    }
   ],
   "source": [
    "#X represents the population density of the prey animal\n",
    "X = 0.8\n",
    "#Y represents the population density of the predator animal\n",
    "Y = 0.5\n",
    "\n",
    "def diff_xy(xy, t, alpha, beta, gamma, delta):\n",
    "     \n",
    "    dxdt = alpha * xy[0] - beta * xy[0] * xy[1]\n",
    "    dydt = delta * xy[0] * xy[1] - gamma * xy[1]\n",
    "\n",
    "    grad = [dxdt, dydt]\n",
    "\n",
    "    return grad\n",
    "\n",
    "def solve_xy(xy0, t_max, alpha, beta, gamma, delta):\n",
    "    '''\n",
    "    Solves a Lotka-Volterra model using odeint.\n",
    "    '''\n",
    "\n",
    "    t = np.linspace(0, t_max)\n",
    "    xy = odeint(diff_xy, xy0, t, (alpha, beta, gamma, delta))\n",
    "\n",
    "    return xy, t\n",
    "\n",
    "def plot_xy(t, data):\n",
    "    \n",
    "    fig = plt.figure()\n",
    "    ax1 = fig.add_subplot(411)\n",
    "    ax1.plot(t, data[:, 0], label='X(t)')\n",
    "    ax2 = fig.add_subplot(412)\n",
    "    ax2.plot(t, data[:, 1], label='Y(t)')\n",
    "    plt.tight_layout()\n",
    "\n",
    "def plot_xy_one(t, data):\n",
    "     \n",
    "    plt.plot(t, np.array(data), label=['X(t)', 'Y(t)'])\n",
    "    plt.legend()\n",
    "\n",
    "def main():\n",
    "\n",
    "    #Set values for model parameters here.\n",
    "\talpha = 0.2\n",
    "\tbeta = 0.4\n",
    "\tgamma = 0.1\n",
    "\tdelta = 0.3\n",
    "\t#Let's solve for 100 time steps\n",
    "\tt_max = 100 \n",
    "\t#Create a tuple to represent the initial conditions\n",
    "\txy0 = (X, Y)\n",
    "\t#Solve the model\n",
    "\txy, t = solve_xy(xy0, t_max, alpha, beta, gamma, delta)\n",
    "\t#Plot the results\n",
    "\tplot_xy_one(t, xy)\n",
    "     \n",
    "main()"
   ]
  }
 ],
 "metadata": {
  "kernelspec": {
   "display_name": "Python 3",
   "language": "python",
   "name": "python3"
  },
  "language_info": {
   "codemirror_mode": {
    "name": "ipython",
    "version": 3
   },
   "file_extension": ".py",
   "mimetype": "text/x-python",
   "name": "python",
   "nbconvert_exporter": "python",
   "pygments_lexer": "ipython3",
   "version": "3.12.8"
  }
 },
 "nbformat": 4,
 "nbformat_minor": 5
}
