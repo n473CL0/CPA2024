{
 "cells": [
  {
   "cell_type": "markdown",
   "id": "e38be345-a76d-4553-a4d3-69b2c4071a43",
   "metadata": {},
   "source": [
    "## Getting started\n",
    "\n",
    "Either:\n",
    "\n",
    "- Click [this link](https://colab.research.google.com/github/engmaths/SEMT10002_2024/blob/main/consolidation_exercises/week_17_search/Search_problems.ipynb) to open this notebook in Google colab.  You'll need to sign in with a Google account before you can run it.  When you do, hit `Ctrl+F9` to check it all runs.\n",
    "\n",
    "or\n",
    "\n",
    "- Download it to your local computer using `git clone https://github.com/engmaths/SEMT10002_2024` or just use `git pull` to refresh if you've done this already.\n",
    "- Navigate to the subfolder `consolidation_exercises/week_17_search/` and open the notebook `Search_problems.ipynb`.  For example, in Visual Studio Code, use `Ctrl+K Ctrl+O` to open a folder and select the folder just mentioned.  Then you can open the notebook file by clicking on it in the left hand explorer sidebar.\n",
    "\n",
    "<h1> Search Algorithms </h1>\n",
    "\n",
    "In last week's class, we saw how to implement some abstract data types (e.g. stacks and trees). Many real-world problems can be solved by first describing them as a tree (or graph) and then searching for a path between the nodes on the tree. In today's consolidation exercise, look at implementing and using algorithms for searching through a data structure. Before we do that, we'll have a quick refresher on classes as we implement two additional data structures that we'll need. \n",
    "\n",
    "<h2> Queues</h2>\n",
    "\n",
    "Last week, we were introduced to the stack,  a \"Last-in, first out\" data structure. We saw how we can use a stack to solve some simple tasks and were introduced to the simple definition of a class for representing a stack. "
   ]
  },
  {
   "cell_type": "code",
   "execution_count": 10,
   "id": "a5abb0a6-f396-4ab6-85e1-81f584d3f70e",
   "metadata": {},
   "outputs": [
    {
     "name": "stdout",
     "output_type": "stream",
     "text": [
      "Running tests\n",
      "Tests complete\n"
     ]
    }
   ],
   "source": [
    "\n",
    "class Stack:\n",
    "\n",
    "\tdef __init__(self):\n",
    "\t\tself.stack = []\n",
    "\n",
    "\tdef push(self, item):\n",
    "\t\tself.stack.append(item)\n",
    "\n",
    "\tdef pop(self):\n",
    "\t\tif len(self.stack) < 1:\n",
    "\t\t\treturn None\n",
    "\t\treturn self.stack.pop()\n",
    "\n",
    "\tdef is_empty(self):\n",
    "\t\treturn len(self.stack)==0\n",
    "\n",
    "def test_stack():\n",
    "\n",
    "\tprint(\"Running tests\")\n",
    "\tstack = Stack()\n",
    "\tstack.push(1)\n",
    "\tstack.push(2)\n",
    "\tstack.push(3)\n",
    "\tassert(stack.is_empty()==False)\n",
    "\tassert(stack.pop()==3)\n",
    "\tassert(stack.pop()==2)\n",
    "\tassert(stack.pop()==1)\n",
    "\tassert(stack.is_empty()==True)\n",
    "\tprint(\"Tests complete\")\n",
    "\n",
    "test_stack()"
   ]
  },
  {
   "cell_type": "markdown",
   "id": "f62e65dc-8123-477c-aeaf-f4c36ed80b3a",
   "metadata": {},
   "source": [
    "A *queue* is very similar to a stack- it's a collection of elements, with push and pop operations. The only difference is that rather than using the principle of Last-In, First-Out, a queue uses First-In, First-Out (FIFO). We can implement this in Python with almost the same code as for the stack- the only thing we need to change is how the pop operation works. Rather than popping the last element, we need to pop the first element. Fortunately, Python's built in list pop method can take an argument, specifying which index should be popped. If we call, my_list.pop(0), it'll remove and return the first element of the list for us. \n",
    "\n",
    "**Exercise**: Complete the code below to implement a queue class. Test your code is correct using the provided test functions."
   ]
  },
  {
   "cell_type": "code",
   "execution_count": 13,
   "id": "f04ef3c9-525e-45d4-8d35-886e4c60da96",
   "metadata": {},
   "outputs": [],
   "source": [
    "class Queue:\n",
    "\n",
    "    def __init__(self):\n",
    "        self.queue = []\n",
    "\n",
    "    def push(self, item):\n",
    "        self.queue.append(item)\n",
    "\n",
    "    def pop(self):\n",
    "        item = self.queue[0]\n",
    "        self.queue = self.queue[1:]\n",
    "        return item\n",
    "\n",
    "    def is_empty(self):\n",
    "        return len(self.queue)==0\n",
    "\n",
    "def test_queue():\n",
    "\n",
    "    queue = Queue()\n",
    "    queue.push(1)\n",
    "    queue.push(2)\n",
    "    queue.push(3)\n",
    "    assert queue.is_empty()==False\n",
    "    assert queue.pop()==1\n",
    "    assert queue.pop()==2\n",
    "    assert queue.pop()==3\n",
    "    assert queue.is_empty()==True\n",
    "\n",
    "test_queue()"
   ]
  },
  {
   "cell_type": "markdown",
   "id": "2e95fb5e-da96-4b12-a43d-92b86d157b5d",
   "metadata": {},
   "source": [
    "<h2> Graphs </h2>\n",
    "\n",
    "<img src=\"https://github.com/engmaths/SEMT10002_2024/blob/main/consolidation_exercises/week_17_search/graph.png?raw=true\" width=\"425\"/> \n",
    "\n",
    "The final abstract data structure we'll look at today is a graph. A graph $G = (V, E)$ consists of a set of vertices, $V$, connected by a set of edges $E$. Each vertex in a graph is associated with a particular value- i.e for the image below, node 1 has a value of 3. Edges in a graph may be undirected (if node i is connected to j, then j is also connected to i), or directed (node i can be connected to node j, but node j may not be connected to node i). Edges may optionally be associated with a weight or cost. We can use graphs to represent the relationships between a set of objects. e.g. to represent whether Alice and Bob know each other, whether we can travel from Park street to University row directly (or not), or whether a gene A increases activation of gene B. While Trees can also be used to represent relationships like this, the restrictions placed on trees (i.e you always have to have a root node), mean that some sets of relationships are best described with a graph. \n",
    "\n",
    "<img src=\"https://github.com/engmaths/SEMT10002_2024/blob/main/consolidation_exercises/week_17_search/simple_graph.png?raw=true\" width=\"425\"/> \n",
    "\n",
    "As with our other abstract data types, we'll first need to write some code to represent a graph. In practice, there are a number of ways this could be achieved. We'll focus on two simple representations. The first approach we could use is to represent the set of nodes (with a list or numpy array) and the set of edges with an *adjancency* matrix. For example, we could represent the nodes in the image with a list:"
   ]
  },
  {
   "cell_type": "code",
   "execution_count": 5,
   "id": "d2980340-e02f-4eec-bbfc-582ffc16f374",
   "metadata": {},
   "outputs": [],
   "source": [
    "nodes = [5, 2, 1, 4]"
   ]
  },
  {
   "cell_type": "markdown",
   "id": "f5e52ca8-0c86-421c-bdc1-01e4d8ec1fd7",
   "metadata": {},
   "source": [
    "To encode the relationships in a graph with $N$ vertices, we can use an $N x N$ matrix, $A$. If vertices $i$ and $j$ are connected, then $A_{ij} = 1$. Otherwise, $A_{ij} = 0$. In an undirected graph, we have $A_{ij} = A_{ji}$. For the graph in the image above, this would lead to:"
   ]
  },
  {
   "cell_type": "code",
   "execution_count": 4,
   "id": "ffe5e2c3-81c6-4cad-a750-0b5a7076eda7",
   "metadata": {},
   "outputs": [],
   "source": [
    "import numpy as np \n",
    "onnectivity = np.array([[0, 0, 1, 1], \n",
    "\t\t\t [0, 0, 1, 1], \n",
    "\t\t\t [1, 1, 0, 0], \n",
    "\t\t\t [1, 1, 0, 0]])"
   ]
  },
  {
   "cell_type": "markdown",
   "id": "91980073-a75a-40d7-8f87-4bbb074e3544",
   "metadata": {},
   "source": [
    "In practice we'll often want to  calculate various quantities based on the data repesented by the graph. These calculations can be quite naturally expressed as methods of a class, so it'll be neater to instead make a class for representing a node in the network. We'll also make a class for representing the overall network. Let's start with the node. We can represent a vertex with the following code:"
   ]
  },
  {
   "cell_type": "code",
   "execution_count": 24,
   "id": "4e03fd57-366c-477a-ba41-d88dd4278b8b",
   "metadata": {},
   "outputs": [],
   "source": [
    "import matplotlib.pyplot as plt\n",
    "\n",
    "class Node:\n",
    "\t'''\n",
    "\tClass to represent a node in an undirected graph\n",
    "\tEach node has a floating point value and some neighbours\n",
    "\tNeighbours is a numpy array representing the row of the adjacency matrix that corresponds to the node\n",
    "\t'''\n",
    "\tdef __init__ (self, value, connections=[]):\n",
    "\t\tself.value = value \n",
    "\t\tself.connections = connections\n",
    "\n",
    "\tdef get_neighbours(self):\n",
    "        #This function will return the indices of the nodes that this node is connected to.\n",
    "\t\treturn np.where(np.array(self.connections)==1)[0]\n",
    "\t\n",
    "\tdef to_string(self, nodes):\n",
    "\t\tprint(f'value = {self.value}, neighbours = {[nodes[c].value for c in self.connections]}')"
   ]
  },
  {
   "cell_type": "markdown",
   "id": "90f3a80c-5c6f-42fd-880b-0e959f033356",
   "metadata": {},
   "source": [
    "Here, we've created an initialisation method which stores the nodes *index*, *value*, and optionally *edges*. We expect connections to be a list, representing the row of the adjacency matrix that corresponds to the node. We've also provided you with a utility method *get_neighbours*, which can translate from this representation into a list of indexes the node is connected to. \n",
    "\n",
    "We can then represent a network with a class that stores the nodes, the overall adjancency matrix and a (basic) method for plotting a network."
   ]
  },
  {
   "cell_type": "code",
   "execution_count": 2,
   "id": "153db8de-1d5c-432f-a7a7-5ee56db39978",
   "metadata": {},
   "outputs": [],
   "source": [
    "class Graph:\n",
    "\n",
    "\tdef __init__(self, nodes, adjacency_matrix):\n",
    "\t\t\n",
    "\t\tself.nodes =[]\n",
    "\n",
    "\t\tfor (i, node) in enumerate(nodes):\n",
    "\t\t\tnew_node = Node(i, node, adjacency_matrix[i])\n",
    "\t\t\tself.nodes.append(new_node)\n",
    "\n",
    "\t\tself.adjacency_matrix = adjacency_matrix\n",
    "\n",
    "\tdef plot(self, fig=None, ax=None):\n",
    "\n",
    "\t\tif fig==None:\n",
    "\t\t\tfig = plt.figure()\n",
    "\t\t\tax = fig.add_subplot(111)\n",
    "\t\t\tax.set_axis_off()\n",
    "\n",
    "\t\tnum_nodes = len(self.nodes)\n",
    "\t\tnetwork_radius = num_nodes * 10\n",
    "\t\tax.set_xlim([-1.1*network_radius, 1.1*network_radius])\n",
    "\t\tax.set_ylim([-1.1*network_radius, 1.1*network_radius])\n",
    "\n",
    "\t\tfor (i, node) in enumerate(self.nodes):\n",
    "\t\t\tnode_angle = i * 2 * np.pi / num_nodes\n",
    "\t\t\tnode_x = network_radius * np.cos(node_angle)\n",
    "\t\t\tnode_y = network_radius * np.sin(node_angle)\n",
    "\n",
    "\t\t\tcircle = plt.Circle((node_x, node_y), network_radius / 10, fill=False)\n",
    "\t\t\tax.add_patch(circle)\n",
    "\t\t\tax.text(node_x*1.05, node_y*1.05, node.value)\n",
    "\n",
    "\t\t\tfor neighbour_index in range(i+1, num_nodes):\n",
    "\t\t\t\tif node.connections[neighbour_index]:\n",
    "\t\t\t\t\tneighbour_angle = neighbour_index * 2 * np.pi / num_nodes\n",
    "\t\t\t\t\tneighbour_x = network_radius * np.cos(neighbour_angle)\n",
    "\t\t\t\t\tneighbour_y = network_radius * np.sin(neighbour_angle)\n",
    "\n",
    "\t\t\t\t\tax.plot((node_x, neighbour_x), (node_y, neighbour_y), color='black')\n",
    "\n",
    "\t\tplt.show()"
   ]
  },
  {
   "cell_type": "markdown",
   "id": "24ec8f19-6601-4e84-871a-3fbf2623f78b",
   "metadata": {},
   "source": [
    "To represent the image above, we would then use the following code:"
   ]
  },
  {
   "cell_type": "code",
   "execution_count": 6,
   "id": "e5d83618-c216-49ea-b187-c97f567d10f9",
   "metadata": {},
   "outputs": [
    {
     "data": {
      "image/png": "[encoded data removed]",
      "text/plain": [
       "<Figure size 640x480 with 1 Axes>"
      ]
     },
     "metadata": {},
     "output_type": "display_data"
    }
   ],
   "source": [
    "nodes = [5, 2, 4, 1]\n",
    "connectivity = np.array([[0, 0, 1, 1], \n",
    "\t\t\t [0, 0, 1, 1], \n",
    "\t\t\t [1, 1, 0, 0], \n",
    "\t\t\t [1, 1, 0, 0]])\n",
    "\n",
    "graph = Graph(nodes, connectivity)\n",
    "graph.plot()"
   ]
  },
  {
   "cell_type": "markdown",
   "id": "912ef582-1d70-49ee-9158-4842b7907807",
   "metadata": {},
   "source": [
    "**Exercise** The image below show the various regions of Bristol. Create a network to represent the connectivity of the blue regions. Assume that regions are connected regions that they share a border with.  \n",
    "<img src=\"https://github.com/engmaths/SEMT10002_2024/blob/main/consolidation_exercises/week_17_search/bristol_regions.png?raw=true\" width=\"425\"/> \n",
    "\n",
    "You should re-produce the image below if your code is correct:\n",
    "\n",
    "<img src=\"https://github.com/engmaths/SEMT10002_2024/blob/main/consolidation_exercises/week_17_search/network_plot2.png?raw=true\" width=\"425\"/> "
   ]
  },
  {
   "cell_type": "code",
   "execution_count": 15,
   "id": "64de235a-6fa6-4783-a121-3016b0d2913a",
   "metadata": {},
   "outputs": [
    {
     "data": {
      "image/png": "[encoded data removed]",
      "text/plain": [
       "<Figure size 640x480 with 1 Axes>"
      ]
     },
     "metadata": {},
     "output_type": "display_data"
    }
   ],
   "source": [
    "#Your code goes here\n",
    "\n",
    "blue_neighborhoods = [\n",
    "    \"Stoke Bishop\",\n",
    "    \"Westbury on Trym\",\n",
    "    \"Henleaze\",\n",
    "    \"Redland\",\n",
    "    \"Bishopston\",\n",
    "    \"Cotham\",\n",
    "    \"Clifton\",\n",
    "    \"Clifton East\",\n",
    "    \"Cabot\"\n",
    "]\n",
    "\n",
    "connectivity = np.array([\n",
    "    #  0: Stoke Bishop, 1: Westbury on Trym, 2: Henleaze, 3: Redland, \n",
    "    #  4: Bishopston,   5: Cotham,         6: Clifton,  7: Clifton East, 8: Cabot\n",
    "    [0, 1, 1, 1, 0, 0, 1, 1, 0],  # Stoke Bishop\n",
    "    [1, 0, 1, 0, 0, 0, 0, 0, 0],  # Westbury on Trym\n",
    "    [1, 1, 0, 1, 1, 0, 0, 0, 0],  # Henleaze\n",
    "    [1, 0, 1, 0, 1, 1, 0, 0, 0],  # Redland\n",
    "    [0, 0, 1, 1, 0, 0, 0, 0, 0],  # Bishopston\n",
    "    [0, 0, 0, 1, 0, 0, 0, 1, 1],  # Cotham\n",
    "    [1, 0, 0, 0, 0, 0, 0, 1, 1],  # Clifton\n",
    "    [1, 0, 0, 0, 0, 1, 1, 0, 1],  # Clifton East\n",
    "    [0, 0, 0, 0, 0, 1, 1, 1, 0]   # Cabot\n",
    "])\n",
    "\n",
    "graph = Graph(blue_neighborhoods, connectivity)\n",
    "graph.plot()"
   ]
  },
  {
   "cell_type": "markdown",
   "id": "a5f59837-165b-45a1-9e20-771c2474d6db",
   "metadata": {},
   "source": [
    "<h2> Searching with Breadth First Search </h2>\n",
    "\n",
    "One type of problem that we can solve with search (but not a binary search tree) is finding the shorted path between two locations. For example, we can use a search algorithm to find the shortest path between any two regions in Bristol. The basic idea is to start at the origin location and then check whether any of its children are the destination- if they are, great, we've found the shortest path. If not, we then check the to see if any of its children's children are the destination. If not, we continue checking children's children's children and so on, until we find the destination. \n",
    "\n",
    "A similar approach can also be used to decide on the best move in deterministic games like chess or tic-tac-toe. To represent a game with a tree like this, we use the current state of the game as the root node in our tree. Each of our possible moves then represents the children of the root. For each of those children, we can then add further children representing a possible move by our opponent. We can then win the game by searching for a sequence of moves that leads to victory. \n",
    "\n",
    "We'll see how this works by writing some code to find the shortest path between Cotham and Westbury. We'll use the approach described above- checking the children of the start node, and then the children's children until we find the destination. This approach is known as *Breadth first search* as it explores the search tree by always checking the nodes closest (in the tree) to the starting node. To do this, we'll need to to keep track of which nodes we need to check next, and which nodes we've already visited. We can do this using a Queue. \n",
    "\n",
    "We start by adding our start node (Cotham) to the queue and initalising an empty list to represent the nodes we've already visited."
   ]
  },
  {
   "cell_type": "code",
   "execution_count": 16,
   "id": "a5caaa67-966d-4724-ba74-b25d7fbffb37",
   "metadata": {},
   "outputs": [],
   "source": [
    "start_node = graph.nodes[0]\n",
    "goal = graph.nodes[-1]\n",
    "search_queue = Queue()\n",
    "search_queue.push(start_node)\n",
    "visited = [0]"
   ]
  },
  {
   "cell_type": "markdown",
   "id": "aa2e0a59-875c-45d8-86d0-bb35e66a20f6",
   "metadata": {},
   "source": [
    "We then enter the main body of the algorithm. We start by popping an element from our queue and checking whether it is the goal or not."
   ]
  },
  {
   "cell_type": "code",
   "execution_count": 17,
   "id": "b975b975-8b6a-4c6e-83c9-5849fc0a3eef",
   "metadata": {},
   "outputs": [
    {
     "name": "stdout",
     "output_type": "stream",
     "text": [
      "Stoke Bishop\n"
     ]
    }
   ],
   "source": [
    "node_to_check = search_queue.pop()\n",
    "print(node_to_check.value)\n",
    "\n",
    "#If we are at the goal, then we are finished.\n",
    "if node_to_check == goal:\n",
    "\tprint(\"Done\")"
   ]
  },
  {
   "cell_type": "markdown",
   "id": "f542dc48-ec7b-4511-b673-e5d7531e3a0d",
   "metadata": {},
   "source": [
    "As we're not at the goal, we need to add all the neighbours of the node we are checking to the queue, provided we haven't already visited them."
   ]
  },
  {
   "cell_type": "code",
   "execution_count": 63,
   "id": "53f905dd-aef3-41a2-a27e-b1af9e747238",
   "metadata": {},
   "outputs": [
    {
     "name": "stdout",
     "output_type": "stream",
     "text": [
      "Search queue\n",
      "['Cabot', 'Clifton East', 'Redland']\n",
      "Visited\n",
      "[1, 2, 7]\n"
     ]
    }
   ],
   "source": [
    "for neighbour_index in node_to_check.get_neighbours():\n",
    "\t#Get a node based on the index\n",
    "\tneighbour = graph.nodes[neighbour_index]\n",
    "\t#Check we haven't already visited the neighbour.\n",
    "\tif neighbour_index not in visited:\n",
    "\t\t#if not, add it to the search queue and store in visited.\n",
    "\t\tsearch_queue.push(neighbour)\n",
    "\t\tvisited.append(neighbour_index)\n",
    "\t\t#Set the parent property to allow for backtracking.\n",
    "\t\tneighbour.parent = node_to_check\n",
    "\n",
    "print(\"Search queue\")\n",
    "print([node.value for node in search_queue.queue])\n",
    "print(\"Visited\")\n",
    "print([node for node in visited])"
   ]
  },
  {
   "cell_type": "markdown",
   "id": "9b65d348-e25d-4f62-8cbe-7cd56125ed5b",
   "metadata": {},
   "source": [
    "Next, we go back to the start of our algorithm body and pop the next item of our search queue."
   ]
  },
  {
   "cell_type": "code",
   "execution_count": 64,
   "id": "acf13124-8f95-421e-a5f8-3a042aca4a58",
   "metadata": {},
   "outputs": [
    {
     "name": "stdout",
     "output_type": "stream",
     "text": [
      "Cabot\n"
     ]
    }
   ],
   "source": [
    "node_to_check = search_queue.pop()\n",
    "print(node_to_check.value)\n",
    "\n",
    "#If we are at the goal, then we are finished.\n",
    "if node_to_check == goal:\n",
    "\tprint(\"Done\")"
   ]
  },
  {
   "cell_type": "markdown",
   "id": "752d9b0d-8650-49f2-885b-a415e4329726",
   "metadata": {},
   "source": [
    "Again, this isn't our goal, so we need to add the neighbours of Cabot to our search queue."
   ]
  },
  {
   "cell_type": "code",
   "execution_count": 18,
   "id": "b1d90615-6019-489c-82f3-dd998796ee6a",
   "metadata": {},
   "outputs": [
    {
     "name": "stdout",
     "output_type": "stream",
     "text": [
      "Search queue\n",
      "['Westbury on Trym', 'Henleaze', 'Redland', 'Clifton', 'Clifton East']\n",
      "Visited\n",
      "[np.int64(1), np.int64(2), np.int64(3), np.int64(6), np.int64(7)]\n"
     ]
    }
   ],
   "source": [
    "for neighbour_index in node_to_check.get_neighbours():\n",
    "\t#Get a node based on the index\n",
    "\tneighbour = graph.nodes[neighbour_index]\n",
    "\t#Check we haven't already visited the neighbour.\n",
    "\tif neighbour_index not in visited:\n",
    "\t\t#if not, add it to the search queue and store in visited.\n",
    "\t\tsearch_queue.push(neighbour)\n",
    "\t\tvisited.append(neighbour_index)\n",
    "\t\t#Set the parent property to allow for backtracking.\n",
    "\t\tneighbour.parent = node_to_check\n",
    "\n",
    "print(\"Search queue\")\n",
    "print([node.value for node in search_queue.queue])\n",
    "print(\"Visited\")\n",
    "print([node for node in visited])"
   ]
  },
  {
   "cell_type": "markdown",
   "id": "7b5e9634-176e-4167-acb5-408e634ec68c",
   "metadata": {},
   "source": [
    "Repeating this process, we'll either find the goal or empty our queue (i.e. there's no path between the start and goal).\n",
    "\n",
    "To achieve this, we simply put the main body of our algorithm into a loop as below."
   ]
  },
  {
   "cell_type": "code",
   "execution_count": 19,
   "id": "960b636b-73b6-4755-981a-fdc3226ccea3",
   "metadata": {},
   "outputs": [
    {
     "name": "stdout",
     "output_type": "stream",
     "text": [
      "Goal found\n",
      "Search queue\n",
      "[]\n",
      "Visited\n",
      "[np.int64(1), np.int64(2), np.int64(3), np.int64(6), np.int64(7), np.int64(0), np.int64(4), np.int64(5), np.int64(8)]\n"
     ]
    }
   ],
   "source": [
    "while not search_queue.is_empty():\n",
    "\t#Pop the next node from the Queue\n",
    "\tnode_to_check = search_queue.pop()\n",
    "\n",
    "\t#If we are at the goal, then we are finished.\n",
    "\tif node_to_check == goal:\n",
    "\t\tprint(\"Goal found\")\n",
    "\t\tbreak\n",
    "\n",
    "\t#If not, we need to add all the neighbours of the current node to the search queue. \n",
    "\t#Start by looping through all the neighbours\n",
    "\tfor neighbour_index in node_to_check.get_neighbours():\n",
    "\t\t#Get a node based on the index\n",
    "\t\tneighbour = graph.nodes[neighbour_index]\n",
    "\t\t#Check we haven't already visited the neighbour.\n",
    "\t\tif neighbour_index not in visited:\n",
    "\t\t\t#if not, add it to the search queue and store in visited.\n",
    "\t\t\tsearch_queue.push(neighbour)\n",
    "\t\t\tvisited.append(neighbour_index)\n",
    "\t\t\t#Set the parent property to allow for backtracking.\n",
    "\t\t\tneighbour.parent = node_to_check\n",
    "\n",
    "print(\"Search queue\")\n",
    "print([node.value for node in search_queue.queue])\n",
    "print(\"Visited\")\n",
    "print([node for node in visited])"
   ]
  },
  {
   "cell_type": "markdown",
   "id": "b1c8a1e0-17a7-4e65-b46c-0abd65c20858",
   "metadata": {},
   "source": [
    "Now that we've found the goal, we need to extract the path from start to goal. To help us do this, we've been setting the 'parent' attribute of each node. This attribute tells us where we should travel next if we want to go from goal to start (i.e. in the reverse direction).\n"
   ]
  },
  {
   "cell_type": "code",
   "execution_count": 20,
   "id": "cd16019e-c165-436f-895c-8e787e0fd9b3",
   "metadata": {},
   "outputs": [
    {
     "name": "stdout",
     "output_type": "stream",
     "text": [
      "Node Stoke Bishop has parent Westbury on Trym\n",
      "Node Westbury on Trym has parent Stoke Bishop\n",
      "Node Henleaze has parent Stoke Bishop\n",
      "Node Redland has parent Stoke Bishop\n",
      "Node Bishopston has parent Henleaze\n",
      "Node Cotham has parent Redland\n",
      "Node Clifton has parent Stoke Bishop\n",
      "Node Clifton East has parent Stoke Bishop\n",
      "Node Cabot has parent Clifton\n"
     ]
    }
   ],
   "source": [
    "for node in graph.nodes:\n",
    "    print(\"Node %s has parent %s\" % (node.value, node.parent.value))"
   ]
  },
  {
   "cell_type": "markdown",
   "id": "5dc1a3b4-a7c2-4bce-857a-64f7fdd9f28c",
   "metadata": {},
   "source": [
    "To find the path, we start at the goal node, and then follow the sequence given by the parent attributes (i.e. we go goal, goal's parent, goal's parent's parent, and so on). The reverse of this sequence is our path.\n",
    "\n",
    "**Exercise** Implement the function get_path() which takes a list of nodes as inputs (with parent attribute set) and returns the path. You should return the path as a list of node values- i.e something like [\"Cabot\", \"Cotham\", etc]. For bonus points, re-implement this as a method of the *Graph* class rather than as a standalone function."
   ]
  },
  {
   "cell_type": "code",
   "execution_count": 26,
   "id": "d3831c5d-1141-4cfd-bc87-380f595ac936",
   "metadata": {},
   "outputs": [
    {
     "name": "stdout",
     "output_type": "stream",
     "text": [
      "['Clifton', 'Cabot']\n"
     ]
    }
   ],
   "source": [
    "def get_path(nodes):\n",
    "    path = []\n",
    "\n",
    "    current_node = goal\n",
    "\n",
    "    while current_node != start_node: # start of the search\n",
    "        path.append(current_node.value)\n",
    "        current_node = current_node.parent\n",
    "    \n",
    "    path.reverse()\n",
    "\n",
    "    return path\n",
    "\n",
    "path_to_westbury = get_path(graph.nodes)\n",
    "print(path_to_westbury)"
   ]
  },
  {
   "cell_type": "markdown",
   "id": "0242b737-9a06-4f3c-8c79-954a1c2a04ea",
   "metadata": {},
   "source": [
    "<h2> Robotic path planning with Breadth-first-search</h2>"
   ]
  },
  {
   "cell_type": "markdown",
   "id": "c5a93499-c919-4361-88ff-987295dd0043",
   "metadata": {},
   "source": [
    "A similar approach can be used to plan a path through a cluttered environment or maze- such approaches are commonly used in robotics for path planning. To do this, we assume that our robot is confined to movement on a grid (i.e can only move up, down, left or right). We can then represent the maze with a 2D numpy array- we use zeros to represent spaces where the robot can move into, and ones to represent locations that are blocked. We can then use our BFS code from above, with one small change- we need to adapt our \"get neighbours\" function.\n",
    "\n",
    "**Task 4**: Adapt the BFS code from above to allow you to find a path through a map with obstacles. We've provided you with three grids below.  You'll need to write some code for plotting the grids, and adapt the BFS code from above to work in this context. When run, your code should plot each of the three maps, displaying the route you've found on your plot. "
   ]
  },
  {
   "cell_type": "code",
   "execution_count": 1,
   "id": "b34989af-bb55-4155-8c86-8a57bd717d3d",
   "metadata": {},
   "outputs": [],
   "source": [
    "import numpy as np\n",
    "\n",
    "grids = {\n",
    "    'small': np.zeros((10, 10)),\n",
    "    'medium': np.zeros((20, 20)),\n",
    "    'large': np.zeros((30, 30))\n",
    "}\n",
    "\n",
    "# Add obstacles to the grids\n",
    "grids['small'][1:4, 2] = 1\n",
    "grids['medium'][2:8, 4] = 1\n",
    "grids['medium'][10:15, 10:15] = 1\n",
    "grids['large'][3:12, 6] = 1\n",
    "grids['large'][15:20, 15:20] = 1\n",
    "grids['large'][25:28, 5:25] = 1\n",
    "\n",
    "# Define the start and goal positions\n",
    "starts = {\n",
    "    'small': [0, 0],\n",
    "    'medium': [0, 0],\n",
    "    'large': [0, 0]\n",
    "}\n",
    "goals = {\n",
    "    'small': [9, 9],\n",
    "    'medium': [19, 19],\n",
    "    'large': [29, 29]\n",
    "}\n"
   ]
  },
  {
   "cell_type": "code",
   "execution_count": 35,
   "id": "8eba873c",
   "metadata": {},
   "outputs": [],
   "source": [
    "\n",
    "\n",
    "def find_nodes(grid):\n",
    "\n",
    "    nodes = []\n",
    "\n",
    "    for j in range(0, len(grid)):\n",
    "        y0 = j - 1\n",
    "        y1 = j + 2\n",
    "        if y0 < 0:\n",
    "            y0 = j\n",
    "        if y1 > len(grid):\n",
    "            y1 = j\n",
    "        for i in range(0, len(grid[0])):\n",
    "            x0 = i - 1\n",
    "            x1 = i + 2\n",
    "            if x0 < 0:\n",
    "                x0 = i\n",
    "            if x1 > len(grid[0]):\n",
    "                x1 = i\n",
    "\n",
    "            neighbours = []\n",
    "            for y in range(y0, y1):\n",
    "                for x in range(x0, x1):\n",
    "                    if x == i and y == j:\n",
    "                        continue\n",
    "\n",
    "                    if grid[y,x] == 0:\n",
    "                        neighbours.append(x + y * len(grid))\n",
    "            nodes.append(Node((i, j), neighbours))\n",
    "    return nodes"
   ]
  },
  {
   "cell_type": "code",
   "execution_count": null,
   "id": "abab0902",
   "metadata": {},
   "outputs": [],
   "source": [
    "small_grid_nodes = find_nodes(grids['small'])\n"
   ]
  },
  {
   "cell_type": "markdown",
   "id": "4a50c1e0-437f-4e14-9ec8-e86aa19fa877",
   "metadata": {},
   "source": [
    "<img src=\"https://github.com/engmaths/SEMT10002_2024/blob/main/consolidation_exercises/week_17_search/robot_search_1.png?raw=true\" width=\"300\"/>  <img src=\"https://github.com/engmaths/SEMT10002_2024/blob/main/consolidation_exercises/week_17_search/robot_search_2.png?raw=true\" width=\"300\"/><img src=\"https://github.com/engmaths/SEMT10002_2024/blob/main/consolidation_exercises/week_17_search/robot_search_3.png?raw=true\" width=\"300\"/>\n",
    "\n",
    "<h3> Speeding up our planner with heuristic search</h3>\n",
    "\n",
    "While BFS is able to solve any grid which has a path between the start and the goal, it might take more time than is necessary. This is due to the way it explores the search tree, always checking first the node which is closest to the root of the search tree. An alternative to breadth-first-search is depth-first-search (DFS), in which we instead look at the node which is *furthest* from the root of the search tree. We can switch between breadth and depth first search just by changing our data structure from a queue (for BFS) to a stack (for DFS). \n",
    "\n",
    "**Exercise** Add some code to your solution for counting how many nodes of the graph are explored before a solution is found. Now change your BFS code into DFS (by using a stack instead of a queue). How does the number of nodes explored change as you swap between BFS and DFS?\n",
    "\n",
    "Although BFS and DFS will both work for these sorts of problems, we can in general do better. The key idea is that rather than just relying on information about how close we are to the root node to order our search path, we can also use information about the distance from the goal. In the case of path planning, we can calculate the euclidean distance between a node and the goal, and explore nodes with a lower distance to the goal first.\n",
    "\n",
    "We can do this by introducing a further Abstract Data type- the priority queue. A priority queue associates each element in the queue with a number. Elements are then removed in priority order- i.e highest priority first. \n",
    "\n",
    "**Task 5**: Extend your solution to task 3 to use a priority queue. You will need to first implement a class representing a priority queue. You have two choices for how you go about this- you can either modify the pop method, to first search for the highest priority item. Or, you can modify the push method to keep the queue sorted as new items are added. Once you've implemented your PriorityQueue class, you'll need to write a function to calculate the priority of each neighbour of a grid (by calculating the distance from a node to the goal), and then switch from a Queue to a PriorityQueue in your search algorithm. "
   ]
  },
  {
   "cell_type": "markdown",
   "id": "3f50dabf-d9c4-4432-be50-1773207eba81",
   "metadata": {},
   "source": [
    "<h2> Solving Sudoku with Search</h2>\n",
    "\n",
    "A similar approach can also be used to find solutions to the number game Sudoku. For those who aren't familiar, Sudoku is a number placement game. Given a grid (of any size, but we'll stick to 9x9), we have to place the numbers 1-9 such that each row, column and square contains the numbers 1-9. We can represent a Sudoku grid with a numpy array. To solve the grid, we need to think about how we can translate it into a search problem- unlike in the previous example, we won't be able to generate and store the entire network in advance (there are 6,670,903,752,021,072,936,960 possible sudoku grids- more than we can reasonably store in memory). Instead, we'll need to start with a single node (representing one configuration of the board) and expand the network as we go. \n",
    "\n",
    "<img src=\"https://github.com/engmaths/SEMT10002_2024/blob/main/consolidation_exercises/week_17_search/Sudoku.png?raw=true\" width=\"425\"/>\n",
    "\n",
    "To get you started, we've provided some functions to help you out:"
   ]
  },
  {
   "cell_type": "code",
   "execution_count": 13,
   "id": "a1655098-9bfe-4728-b4b1-ccbd1305ed4d",
   "metadata": {},
   "outputs": [],
   "source": [
    "class SudokuGrid:\n",
    "\n",
    "\tdef __init__(self, grid):\n",
    "\t\tself.grid = grid \n",
    "\t\tself.n_rows = grid.shape[0]\n",
    "\t\tself.n_cols = grid.shape[1]\n",
    "\t\tself.n = int(np.sqrt(self.n_rows * self.n_cols))\n",
    "\n",
    "\tdef __eq__(self, other):\n",
    "\n",
    "\t\treturn np.all(self.grid == other.grid)\n",
    "\n",
    "\tdef check_section(self, section):\n",
    "\t\tif len(set(section)) == len(section) and sum(section) == sum([i for i in range(self.n+1)]):\n",
    "\t\t\treturn True\n",
    "\t\treturn False\n",
    "\n",
    "\tdef get_squares(self):\n",
    "\n",
    "\t\tgrid_step = int(np.sqrt(self.n))\n",
    "\t\t#print(grid_step)\n",
    "\n",
    "\t\tsquares = []\n",
    "\n",
    "\t\tfor i in range(grid_step):\n",
    "\t\t\tfor j in range(grid_step):\n",
    "\t\t\t\trow_min = i * grid_step\n",
    "\t\t\t\trow_max = (i+1) * grid_step\n",
    "\t\t\t\tcol_min = j * grid_step\n",
    "\t\t\t\tcol_max = (j+1) * grid_step\n",
    "\n",
    "\t\t\t\tsquare = self.grid[row_min:row_max, row_min:row_max] \n",
    "\t\t\t\tsquares.append(square.flatten())\n",
    "\n",
    "\t\treturn(squares)\n",
    "\n",
    "\tdef check_solution(self):\n",
    "\t\t'''\n",
    "\t\tThis function is used to check whether a sudoku board has been correctly solved\n",
    "\n",
    "\t\targs: grid - representation of a suduko board as a nested list.\n",
    "\t\treturns: True (correct solution) or False (incorrect solution)\n",
    "\t\t'''\n",
    "\n",
    "\t\tfor row in self.grid:\n",
    "\t\t\tif self.check_section(row) == False:\n",
    "\t\t\t\treturn False\n",
    "\n",
    "\t\tfor i in range(self.n_rows):\n",
    "\t\t\tcolumn = []\n",
    "\t\t\tfor row in self.grid:\n",
    "\t\t\t\tcolumn.append(row[i])\n",
    "\n",
    "\t\t\tif self.check_section(column) == False:\n",
    "\t\t\t\treturn False\n",
    "\n",
    "\t\tfor square in self.get_squares():\n",
    "\t\t\tif self.check_section(square) == False:\n",
    "\t\t\t\treturn False\n",
    "\n",
    "\t\treturn True\t\n",
    "\n",
    "\n",
    "def solve(grid):\n",
    "\n",
    "\t#Your code goes here.\n",
    "\n",
    "\treturn grid"
   ]
  },
  {
   "cell_type": "markdown",
   "id": "d6cdf761-0627-4b0d-9e07-f17c7bca661d",
   "metadata": {},
   "source": [
    "The SudokuGrid class can be used to represent a possible solution to a Sudoku grid. You can check whether the grid is correct or not by using the check_solution() method, which will either return True (the board is a solution) or False (the board isn't a solution). \n",
    "\n",
    "**Task 6**: Implement a function for solving a Sudoku Grid using Breadth First Search. To adapt the BFS code from above, you'll need to think about how to adapt the steps for determing when you've reached the goal, and what it means to be a 'neighbour' of a grid. You can use the following grid to test your solution. When I run your code, it should print the solved grid to the terminal. Once you have BFS working, can you think of any heuristics you could use to speed up the search to allow your code to solve larger grids in a reasonable amount of time?"
   ]
  },
  {
   "cell_type": "code",
   "execution_count": 14,
   "id": "146b53a9-bc93-442c-a3c3-cceca65a82b6",
   "metadata": {},
   "outputs": [],
   "source": [
    "grid1 = np.array([[1, 2, 0, 4],\n",
    "\t\t\t\t[3, 0, 1, 2],\n",
    "\t\t\t\t[0, 0, 2, 1],\n",
    "\t\t\t\t[2, 0, 4, 3]])\n",
    "\n",
    "grid2 = np.array([[0, 0, 0, 6, 0, 0, 0, 0, 0],\n",
    "\t\t[0, 0, 0, 0, 0, 0, 5, 0, 1],\n",
    "\t\t[3, 6, 9, 0, 8, 0, 4, 0, 0],\n",
    "\t\t[0, 0, 0, 0, 0, 6, 8, 0, 0],\n",
    "\t\t[0, 0, 0, 1, 3, 0, 0, 0, 9],\n",
    "\t\t[4, 0, 5, 0, 0, 9, 0, 0, 0],\n",
    "\t\t[0, 0, 0, 0, 0, 0, 3, 0, 0],\n",
    "\t\t[0, 0, 6, 0, 0, 7, 0, 0, 0],\n",
    "\t\t[1, 0, 0, 3, 4, 0, 0, 0, 0]])"
   ]
  },
  {
   "cell_type": "code",
   "execution_count": null,
   "id": "fa7bd1d1-6cb6-424c-8c69-62ff8a4fb0c1",
   "metadata": {},
   "outputs": [],
   "source": []
  }
 ],
 "metadata": {
  "kernelspec": {
   "display_name": "Python 3",
   "language": "python",
   "name": "python3"
  },
  "language_info": {
   "codemirror_mode": {
    "name": "ipython",
    "version": 3
   },
   "file_extension": ".py",
   "mimetype": "text/x-python",
   "name": "python",
   "nbconvert_exporter": "python",
   "pygments_lexer": "ipython3",
   "version": "3.12.9"
  }
 },
 "nbformat": 4,
 "nbformat_minor": 5
}
